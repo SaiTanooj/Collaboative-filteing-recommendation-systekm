{
 "cells": [
  {
   "cell_type": "code",
   "execution_count": 1,
   "id": "6e87fade-fe75-44fa-814c-046c569bc299",
   "metadata": {},
   "outputs": [],
   "source": [
    "import pandas as pd"
   ]
  },
  {
   "cell_type": "code",
   "execution_count": 2,
   "id": "b5de81ba-2aff-4bbf-a9dd-820032dabf1d",
   "metadata": {},
   "outputs": [],
   "source": [
    "df=pd.read_csv(\"rating.csv\")"
   ]
  },
  {
   "cell_type": "code",
   "execution_count": 3,
   "id": "cb157565-b188-42a1-b48b-854f19108155",
   "metadata": {},
   "outputs": [
    {
     "data": {
      "text/html": [
       "<div>\n",
       "<style scoped>\n",
       "    .dataframe tbody tr th:only-of-type {\n",
       "        vertical-align: middle;\n",
       "    }\n",
       "\n",
       "    .dataframe tbody tr th {\n",
       "        vertical-align: top;\n",
       "    }\n",
       "\n",
       "    .dataframe thead th {\n",
       "        text-align: right;\n",
       "    }\n",
       "</style>\n",
       "<table border=\"1\" class=\"dataframe\">\n",
       "  <thead>\n",
       "    <tr style=\"text-align: right;\">\n",
       "      <th></th>\n",
       "      <th>userId</th>\n",
       "      <th>movieId</th>\n",
       "      <th>rating</th>\n",
       "      <th>timestamp</th>\n",
       "    </tr>\n",
       "  </thead>\n",
       "  <tbody>\n",
       "    <tr>\n",
       "      <th>0</th>\n",
       "      <td>1</td>\n",
       "      <td>2</td>\n",
       "      <td>3.5</td>\n",
       "      <td>2005-04-02 23:53:47</td>\n",
       "    </tr>\n",
       "    <tr>\n",
       "      <th>1</th>\n",
       "      <td>1</td>\n",
       "      <td>29</td>\n",
       "      <td>3.5</td>\n",
       "      <td>2005-04-02 23:31:16</td>\n",
       "    </tr>\n",
       "    <tr>\n",
       "      <th>2</th>\n",
       "      <td>1</td>\n",
       "      <td>32</td>\n",
       "      <td>3.5</td>\n",
       "      <td>2005-04-02 23:33:39</td>\n",
       "    </tr>\n",
       "    <tr>\n",
       "      <th>3</th>\n",
       "      <td>1</td>\n",
       "      <td>47</td>\n",
       "      <td>3.5</td>\n",
       "      <td>2005-04-02 23:32:07</td>\n",
       "    </tr>\n",
       "    <tr>\n",
       "      <th>4</th>\n",
       "      <td>1</td>\n",
       "      <td>50</td>\n",
       "      <td>3.5</td>\n",
       "      <td>2005-04-02 23:29:40</td>\n",
       "    </tr>\n",
       "    <tr>\n",
       "      <th>5</th>\n",
       "      <td>1</td>\n",
       "      <td>112</td>\n",
       "      <td>3.5</td>\n",
       "      <td>2004-09-10 03:09:00</td>\n",
       "    </tr>\n",
       "    <tr>\n",
       "      <th>6</th>\n",
       "      <td>1</td>\n",
       "      <td>151</td>\n",
       "      <td>4.0</td>\n",
       "      <td>2004-09-10 03:08:54</td>\n",
       "    </tr>\n",
       "    <tr>\n",
       "      <th>7</th>\n",
       "      <td>1</td>\n",
       "      <td>223</td>\n",
       "      <td>4.0</td>\n",
       "      <td>2005-04-02 23:46:13</td>\n",
       "    </tr>\n",
       "    <tr>\n",
       "      <th>8</th>\n",
       "      <td>1</td>\n",
       "      <td>253</td>\n",
       "      <td>4.0</td>\n",
       "      <td>2005-04-02 23:35:40</td>\n",
       "    </tr>\n",
       "    <tr>\n",
       "      <th>9</th>\n",
       "      <td>1</td>\n",
       "      <td>260</td>\n",
       "      <td>4.0</td>\n",
       "      <td>2005-04-02 23:33:46</td>\n",
       "    </tr>\n",
       "    <tr>\n",
       "      <th>10</th>\n",
       "      <td>1</td>\n",
       "      <td>293</td>\n",
       "      <td>4.0</td>\n",
       "      <td>2005-04-02 23:31:43</td>\n",
       "    </tr>\n",
       "    <tr>\n",
       "      <th>11</th>\n",
       "      <td>1</td>\n",
       "      <td>296</td>\n",
       "      <td>4.0</td>\n",
       "      <td>2005-04-02 23:32:47</td>\n",
       "    </tr>\n",
       "    <tr>\n",
       "      <th>12</th>\n",
       "      <td>1</td>\n",
       "      <td>318</td>\n",
       "      <td>4.0</td>\n",
       "      <td>2005-04-02 23:33:18</td>\n",
       "    </tr>\n",
       "    <tr>\n",
       "      <th>13</th>\n",
       "      <td>1</td>\n",
       "      <td>337</td>\n",
       "      <td>3.5</td>\n",
       "      <td>2004-09-10 03:08:29</td>\n",
       "    </tr>\n",
       "    <tr>\n",
       "      <th>14</th>\n",
       "      <td>1</td>\n",
       "      <td>367</td>\n",
       "      <td>3.5</td>\n",
       "      <td>2005-04-02 23:53:00</td>\n",
       "    </tr>\n",
       "    <tr>\n",
       "      <th>15</th>\n",
       "      <td>1</td>\n",
       "      <td>541</td>\n",
       "      <td>4.0</td>\n",
       "      <td>2005-04-02 23:30:03</td>\n",
       "    </tr>\n",
       "    <tr>\n",
       "      <th>16</th>\n",
       "      <td>1</td>\n",
       "      <td>589</td>\n",
       "      <td>3.5</td>\n",
       "      <td>2005-04-02 23:45:57</td>\n",
       "    </tr>\n",
       "    <tr>\n",
       "      <th>17</th>\n",
       "      <td>1</td>\n",
       "      <td>593</td>\n",
       "      <td>3.5</td>\n",
       "      <td>2005-04-02 23:31:01</td>\n",
       "    </tr>\n",
       "    <tr>\n",
       "      <th>18</th>\n",
       "      <td>1</td>\n",
       "      <td>653</td>\n",
       "      <td>3.0</td>\n",
       "      <td>2004-09-10 03:08:11</td>\n",
       "    </tr>\n",
       "    <tr>\n",
       "      <th>19</th>\n",
       "      <td>1</td>\n",
       "      <td>919</td>\n",
       "      <td>3.5</td>\n",
       "      <td>2004-09-10 03:07:01</td>\n",
       "    </tr>\n",
       "  </tbody>\n",
       "</table>\n",
       "</div>"
      ],
      "text/plain": [
       "    userId  movieId  rating            timestamp\n",
       "0        1        2     3.5  2005-04-02 23:53:47\n",
       "1        1       29     3.5  2005-04-02 23:31:16\n",
       "2        1       32     3.5  2005-04-02 23:33:39\n",
       "3        1       47     3.5  2005-04-02 23:32:07\n",
       "4        1       50     3.5  2005-04-02 23:29:40\n",
       "5        1      112     3.5  2004-09-10 03:09:00\n",
       "6        1      151     4.0  2004-09-10 03:08:54\n",
       "7        1      223     4.0  2005-04-02 23:46:13\n",
       "8        1      253     4.0  2005-04-02 23:35:40\n",
       "9        1      260     4.0  2005-04-02 23:33:46\n",
       "10       1      293     4.0  2005-04-02 23:31:43\n",
       "11       1      296     4.0  2005-04-02 23:32:47\n",
       "12       1      318     4.0  2005-04-02 23:33:18\n",
       "13       1      337     3.5  2004-09-10 03:08:29\n",
       "14       1      367     3.5  2005-04-02 23:53:00\n",
       "15       1      541     4.0  2005-04-02 23:30:03\n",
       "16       1      589     3.5  2005-04-02 23:45:57\n",
       "17       1      593     3.5  2005-04-02 23:31:01\n",
       "18       1      653     3.0  2004-09-10 03:08:11\n",
       "19       1      919     3.5  2004-09-10 03:07:01"
      ]
     },
     "execution_count": 3,
     "metadata": {},
     "output_type": "execute_result"
    }
   ],
   "source": [
    "df.head(20)"
   ]
  },
  {
   "cell_type": "code",
   "execution_count": 4,
   "id": "5b0a49e5-a409-41f0-9bdb-93aa46335aeb",
   "metadata": {},
   "outputs": [
    {
     "data": {
      "text/plain": [
       "userId       0\n",
       "movieId      0\n",
       "rating       0\n",
       "timestamp    0\n",
       "dtype: int64"
      ]
     },
     "execution_count": 4,
     "metadata": {},
     "output_type": "execute_result"
    }
   ],
   "source": [
    "df.isnull().sum()"
   ]
  },
  {
   "cell_type": "code",
   "execution_count": 5,
   "id": "f0effac4-a06f-43c6-b88f-200844b375cb",
   "metadata": {},
   "outputs": [],
   "source": [
    "df[\"userId\"]=df[\"userId\"]-1"
   ]
  },
  {
   "cell_type": "code",
   "execution_count": 6,
   "id": "54386090-22a5-4230-99d6-3c0307afe8d2",
   "metadata": {},
   "outputs": [
    {
     "data": {
      "text/html": [
       "<div>\n",
       "<style scoped>\n",
       "    .dataframe tbody tr th:only-of-type {\n",
       "        vertical-align: middle;\n",
       "    }\n",
       "\n",
       "    .dataframe tbody tr th {\n",
       "        vertical-align: top;\n",
       "    }\n",
       "\n",
       "    .dataframe thead th {\n",
       "        text-align: right;\n",
       "    }\n",
       "</style>\n",
       "<table border=\"1\" class=\"dataframe\">\n",
       "  <thead>\n",
       "    <tr style=\"text-align: right;\">\n",
       "      <th></th>\n",
       "      <th>userId</th>\n",
       "      <th>movieId</th>\n",
       "      <th>rating</th>\n",
       "      <th>timestamp</th>\n",
       "    </tr>\n",
       "  </thead>\n",
       "  <tbody>\n",
       "    <tr>\n",
       "      <th>0</th>\n",
       "      <td>0</td>\n",
       "      <td>2</td>\n",
       "      <td>3.5</td>\n",
       "      <td>2005-04-02 23:53:47</td>\n",
       "    </tr>\n",
       "    <tr>\n",
       "      <th>1</th>\n",
       "      <td>0</td>\n",
       "      <td>29</td>\n",
       "      <td>3.5</td>\n",
       "      <td>2005-04-02 23:31:16</td>\n",
       "    </tr>\n",
       "    <tr>\n",
       "      <th>2</th>\n",
       "      <td>0</td>\n",
       "      <td>32</td>\n",
       "      <td>3.5</td>\n",
       "      <td>2005-04-02 23:33:39</td>\n",
       "    </tr>\n",
       "    <tr>\n",
       "      <th>3</th>\n",
       "      <td>0</td>\n",
       "      <td>47</td>\n",
       "      <td>3.5</td>\n",
       "      <td>2005-04-02 23:32:07</td>\n",
       "    </tr>\n",
       "    <tr>\n",
       "      <th>4</th>\n",
       "      <td>0</td>\n",
       "      <td>50</td>\n",
       "      <td>3.5</td>\n",
       "      <td>2005-04-02 23:29:40</td>\n",
       "    </tr>\n",
       "  </tbody>\n",
       "</table>\n",
       "</div>"
      ],
      "text/plain": [
       "   userId  movieId  rating            timestamp\n",
       "0       0        2     3.5  2005-04-02 23:53:47\n",
       "1       0       29     3.5  2005-04-02 23:31:16\n",
       "2       0       32     3.5  2005-04-02 23:33:39\n",
       "3       0       47     3.5  2005-04-02 23:32:07\n",
       "4       0       50     3.5  2005-04-02 23:29:40"
      ]
     },
     "execution_count": 6,
     "metadata": {},
     "output_type": "execute_result"
    }
   ],
   "source": [
    "df.head()"
   ]
  },
  {
   "cell_type": "code",
   "execution_count": 7,
   "id": "cf23c1c4-c344-4e6f-a766-4d78a7192a8d",
   "metadata": {},
   "outputs": [
    {
     "data": {
      "text/plain": [
       "1"
      ]
     },
     "execution_count": 7,
     "metadata": {},
     "output_type": "execute_result"
    }
   ],
   "source": [
    "df[\"movieId\"].min()"
   ]
  },
  {
   "cell_type": "code",
   "execution_count": 8,
   "id": "dbb0fa1a-8c9a-4693-9a82-51bb37a34beb",
   "metadata": {},
   "outputs": [
    {
     "data": {
      "text/plain": [
       "131262"
      ]
     },
     "execution_count": 8,
     "metadata": {},
     "output_type": "execute_result"
    }
   ],
   "source": [
    "df[\"movieId\"].max()"
   ]
  },
  {
   "cell_type": "code",
   "execution_count": 9,
   "id": "9bfef322-96e7-4ed6-8239-18987362d597",
   "metadata": {},
   "outputs": [
    {
     "data": {
      "text/plain": [
       "26744"
      ]
     },
     "execution_count": 9,
     "metadata": {},
     "output_type": "execute_result"
    }
   ],
   "source": [
    "df[\"movieId\"].nunique()"
   ]
  },
  {
   "cell_type": "code",
   "execution_count": 10,
   "id": "68514222-1747-44de-9c87-9ae1973c0231",
   "metadata": {},
   "outputs": [
    {
     "data": {
      "text/plain": [
       "(20000263,)"
      ]
     },
     "execution_count": 10,
     "metadata": {},
     "output_type": "execute_result"
    }
   ],
   "source": [
    "df[\"movieId\"].shape"
   ]
  },
  {
   "cell_type": "code",
   "execution_count": 11,
   "id": "008fa7e9-028d-49c0-b786-85aafd499e92",
   "metadata": {},
   "outputs": [
    {
     "name": "stdout",
     "output_type": "stream",
     "text": [
      "<class 'pandas.core.frame.DataFrame'>\n",
      "RangeIndex: 20000263 entries, 0 to 20000262\n",
      "Data columns (total 4 columns):\n",
      " #   Column     Dtype  \n",
      "---  ------     -----  \n",
      " 0   userId     int64  \n",
      " 1   movieId    int64  \n",
      " 2   rating     float64\n",
      " 3   timestamp  object \n",
      "dtypes: float64(1), int64(2), object(1)\n",
      "memory usage: 610.4+ MB\n"
     ]
    }
   ],
   "source": [
    "df.info()"
   ]
  },
  {
   "cell_type": "code",
   "execution_count": 13,
   "id": "f6928a94-974e-4031-97a7-09ce23f7db43",
   "metadata": {},
   "outputs": [],
   "source": [
    "df=df.drop(\"timestamp\",axis=1)"
   ]
  },
  {
   "cell_type": "code",
   "execution_count": 15,
   "id": "4dae8778-e6a2-45b5-aef2-d2acfc73802a",
   "metadata": {},
   "outputs": [
    {
     "name": "stdout",
     "output_type": "stream",
     "text": [
      "<class 'pandas.core.frame.DataFrame'>\n",
      "RangeIndex: 20000263 entries, 0 to 20000262\n",
      "Data columns (total 3 columns):\n",
      " #   Column   Dtype  \n",
      "---  ------   -----  \n",
      " 0   userId   int64  \n",
      " 1   movieId  int64  \n",
      " 2   rating   float64\n",
      "dtypes: float64(1), int64(2)\n",
      "memory usage: 457.8 MB\n"
     ]
    }
   ],
   "source": [
    "df.info()"
   ]
  },
  {
   "cell_type": "code",
   "execution_count": 16,
   "id": "6b7ea626-252c-45a7-b38e-b2b1ba63c697",
   "metadata": {},
   "outputs": [],
   "source": [
    "unique_movieid=set(df.movieId.values)"
   ]
  },
  {
   "cell_type": "code",
   "execution_count": 23,
   "id": "c15bdc89-06cd-4d92-a061-6811896490ed",
   "metadata": {},
   "outputs": [
    {
     "data": {
      "text/plain": [
       "26744"
      ]
     },
     "execution_count": 23,
     "metadata": {},
     "output_type": "execute_result"
    }
   ],
   "source": [
    "len(unique_movieid)"
   ]
  },
  {
   "cell_type": "code",
   "execution_count": 24,
   "id": "8fb47f4f-4534-4fe8-aecd-b6278f643303",
   "metadata": {},
   "outputs": [],
   "source": [
    "movie2idx={}"
   ]
  },
  {
   "cell_type": "code",
   "execution_count": 25,
   "id": "a7259b65-37fc-4245-96b7-ab42637d3279",
   "metadata": {},
   "outputs": [],
   "source": [
    "count=0"
   ]
  },
  {
   "cell_type": "code",
   "execution_count": 27,
   "id": "62bfdd04-249e-4ebd-aaa6-8f9587472b43",
   "metadata": {},
   "outputs": [],
   "source": [
    "for movie_id in unique_movieid:\n",
    "    movie2idx[movie_id]=count\n",
    "    count=count+1"
   ]
  },
  {
   "cell_type": "code",
   "execution_count": 28,
   "id": "4a8b3cf1-17f1-40ab-84d6-98130dc74fe5",
   "metadata": {},
   "outputs": [],
   "source": [
    "df[\"movie_idx\"]=df.apply(lambda row:movie2idx[row.movieId],axis=1)"
   ]
  },
  {
   "cell_type": "code",
   "execution_count": 30,
   "id": "c2b8de82-0760-487b-abf8-d56221fb67e4",
   "metadata": {},
   "outputs": [
    {
     "data": {
      "text/plain": [
       "(20000263,)"
      ]
     },
     "execution_count": 30,
     "metadata": {},
     "output_type": "execute_result"
    }
   ],
   "source": [
    "df[\"movieId\"].shape"
   ]
  },
  {
   "cell_type": "code",
   "execution_count": 31,
   "id": "eafc4c9d-460f-49fe-b6ab-7d2d2ce201b9",
   "metadata": {},
   "outputs": [
    {
     "data": {
      "text/plain": [
       "26744"
      ]
     },
     "execution_count": 31,
     "metadata": {},
     "output_type": "execute_result"
    }
   ],
   "source": [
    "df[\"movieId\"].nunique()"
   ]
  },
  {
   "cell_type": "code",
   "execution_count": 32,
   "id": "6f487e68-1f85-442e-8ef6-2bb809f2a52d",
   "metadata": {},
   "outputs": [
    {
     "data": {
      "text/plain": [
       "array([     2,     29,     32, ..., 121021, 110167, 110510], dtype=int64)"
      ]
     },
     "execution_count": 32,
     "metadata": {},
     "output_type": "execute_result"
    }
   ],
   "source": [
    "df[\"movieId\"].unique()"
   ]
  },
  {
   "cell_type": "code",
   "execution_count": 37,
   "id": "e6859ced-ea40-41d6-bbf2-0392aca33be2",
   "metadata": {},
   "outputs": [
    {
     "data": {
      "text/html": [
       "<div>\n",
       "<style scoped>\n",
       "    .dataframe tbody tr th:only-of-type {\n",
       "        vertical-align: middle;\n",
       "    }\n",
       "\n",
       "    .dataframe tbody tr th {\n",
       "        vertical-align: top;\n",
       "    }\n",
       "\n",
       "    .dataframe thead th {\n",
       "        text-align: right;\n",
       "    }\n",
       "</style>\n",
       "<table border=\"1\" class=\"dataframe\">\n",
       "  <thead>\n",
       "    <tr style=\"text-align: right;\">\n",
       "      <th></th>\n",
       "      <th>userId</th>\n",
       "      <th>movieId</th>\n",
       "      <th>rating</th>\n",
       "      <th>movie_idx</th>\n",
       "    </tr>\n",
       "  </thead>\n",
       "  <tbody>\n",
       "    <tr>\n",
       "      <th>0</th>\n",
       "      <td>0</td>\n",
       "      <td>2</td>\n",
       "      <td>3.5</td>\n",
       "      <td>2</td>\n",
       "    </tr>\n",
       "    <tr>\n",
       "      <th>1</th>\n",
       "      <td>0</td>\n",
       "      <td>29</td>\n",
       "      <td>3.5</td>\n",
       "      <td>29</td>\n",
       "    </tr>\n",
       "    <tr>\n",
       "      <th>2</th>\n",
       "      <td>0</td>\n",
       "      <td>32</td>\n",
       "      <td>3.5</td>\n",
       "      <td>32</td>\n",
       "    </tr>\n",
       "    <tr>\n",
       "      <th>3</th>\n",
       "      <td>0</td>\n",
       "      <td>47</td>\n",
       "      <td>3.5</td>\n",
       "      <td>47</td>\n",
       "    </tr>\n",
       "    <tr>\n",
       "      <th>4</th>\n",
       "      <td>0</td>\n",
       "      <td>50</td>\n",
       "      <td>3.5</td>\n",
       "      <td>50</td>\n",
       "    </tr>\n",
       "    <tr>\n",
       "      <th>5</th>\n",
       "      <td>0</td>\n",
       "      <td>112</td>\n",
       "      <td>3.5</td>\n",
       "      <td>112</td>\n",
       "    </tr>\n",
       "    <tr>\n",
       "      <th>6</th>\n",
       "      <td>0</td>\n",
       "      <td>151</td>\n",
       "      <td>4.0</td>\n",
       "      <td>151</td>\n",
       "    </tr>\n",
       "    <tr>\n",
       "      <th>7</th>\n",
       "      <td>0</td>\n",
       "      <td>223</td>\n",
       "      <td>4.0</td>\n",
       "      <td>222</td>\n",
       "    </tr>\n",
       "    <tr>\n",
       "      <th>8</th>\n",
       "      <td>0</td>\n",
       "      <td>253</td>\n",
       "      <td>4.0</td>\n",
       "      <td>252</td>\n",
       "    </tr>\n",
       "    <tr>\n",
       "      <th>9</th>\n",
       "      <td>0</td>\n",
       "      <td>260</td>\n",
       "      <td>4.0</td>\n",
       "      <td>259</td>\n",
       "    </tr>\n",
       "    <tr>\n",
       "      <th>10</th>\n",
       "      <td>0</td>\n",
       "      <td>293</td>\n",
       "      <td>4.0</td>\n",
       "      <td>292</td>\n",
       "    </tr>\n",
       "    <tr>\n",
       "      <th>11</th>\n",
       "      <td>0</td>\n",
       "      <td>296</td>\n",
       "      <td>4.0</td>\n",
       "      <td>295</td>\n",
       "    </tr>\n",
       "    <tr>\n",
       "      <th>12</th>\n",
       "      <td>0</td>\n",
       "      <td>318</td>\n",
       "      <td>4.0</td>\n",
       "      <td>317</td>\n",
       "    </tr>\n",
       "    <tr>\n",
       "      <th>13</th>\n",
       "      <td>0</td>\n",
       "      <td>337</td>\n",
       "      <td>3.5</td>\n",
       "      <td>335</td>\n",
       "    </tr>\n",
       "    <tr>\n",
       "      <th>14</th>\n",
       "      <td>0</td>\n",
       "      <td>367</td>\n",
       "      <td>3.5</td>\n",
       "      <td>365</td>\n",
       "    </tr>\n",
       "    <tr>\n",
       "      <th>15</th>\n",
       "      <td>0</td>\n",
       "      <td>541</td>\n",
       "      <td>4.0</td>\n",
       "      <td>539</td>\n",
       "    </tr>\n",
       "    <tr>\n",
       "      <th>16</th>\n",
       "      <td>0</td>\n",
       "      <td>589</td>\n",
       "      <td>3.5</td>\n",
       "      <td>585</td>\n",
       "    </tr>\n",
       "    <tr>\n",
       "      <th>17</th>\n",
       "      <td>0</td>\n",
       "      <td>593</td>\n",
       "      <td>3.5</td>\n",
       "      <td>589</td>\n",
       "    </tr>\n",
       "    <tr>\n",
       "      <th>18</th>\n",
       "      <td>0</td>\n",
       "      <td>653</td>\n",
       "      <td>3.0</td>\n",
       "      <td>647</td>\n",
       "    </tr>\n",
       "    <tr>\n",
       "      <th>19</th>\n",
       "      <td>0</td>\n",
       "      <td>919</td>\n",
       "      <td>3.5</td>\n",
       "      <td>904</td>\n",
       "    </tr>\n",
       "    <tr>\n",
       "      <th>20</th>\n",
       "      <td>0</td>\n",
       "      <td>924</td>\n",
       "      <td>3.5</td>\n",
       "      <td>909</td>\n",
       "    </tr>\n",
       "    <tr>\n",
       "      <th>21</th>\n",
       "      <td>0</td>\n",
       "      <td>1009</td>\n",
       "      <td>3.5</td>\n",
       "      <td>992</td>\n",
       "    </tr>\n",
       "    <tr>\n",
       "      <th>22</th>\n",
       "      <td>0</td>\n",
       "      <td>1036</td>\n",
       "      <td>4.0</td>\n",
       "      <td>1019</td>\n",
       "    </tr>\n",
       "    <tr>\n",
       "      <th>23</th>\n",
       "      <td>0</td>\n",
       "      <td>1079</td>\n",
       "      <td>4.0</td>\n",
       "      <td>1059</td>\n",
       "    </tr>\n",
       "    <tr>\n",
       "      <th>24</th>\n",
       "      <td>0</td>\n",
       "      <td>1080</td>\n",
       "      <td>3.5</td>\n",
       "      <td>1060</td>\n",
       "    </tr>\n",
       "    <tr>\n",
       "      <th>25</th>\n",
       "      <td>0</td>\n",
       "      <td>1089</td>\n",
       "      <td>3.5</td>\n",
       "      <td>1069</td>\n",
       "    </tr>\n",
       "    <tr>\n",
       "      <th>26</th>\n",
       "      <td>0</td>\n",
       "      <td>1090</td>\n",
       "      <td>4.0</td>\n",
       "      <td>1070</td>\n",
       "    </tr>\n",
       "    <tr>\n",
       "      <th>27</th>\n",
       "      <td>0</td>\n",
       "      <td>1097</td>\n",
       "      <td>4.0</td>\n",
       "      <td>1077</td>\n",
       "    </tr>\n",
       "    <tr>\n",
       "      <th>28</th>\n",
       "      <td>0</td>\n",
       "      <td>1136</td>\n",
       "      <td>3.5</td>\n",
       "      <td>1115</td>\n",
       "    </tr>\n",
       "    <tr>\n",
       "      <th>29</th>\n",
       "      <td>0</td>\n",
       "      <td>1193</td>\n",
       "      <td>3.5</td>\n",
       "      <td>1171</td>\n",
       "    </tr>\n",
       "  </tbody>\n",
       "</table>\n",
       "</div>"
      ],
      "text/plain": [
       "    userId  movieId  rating  movie_idx\n",
       "0        0        2     3.5          2\n",
       "1        0       29     3.5         29\n",
       "2        0       32     3.5         32\n",
       "3        0       47     3.5         47\n",
       "4        0       50     3.5         50\n",
       "5        0      112     3.5        112\n",
       "6        0      151     4.0        151\n",
       "7        0      223     4.0        222\n",
       "8        0      253     4.0        252\n",
       "9        0      260     4.0        259\n",
       "10       0      293     4.0        292\n",
       "11       0      296     4.0        295\n",
       "12       0      318     4.0        317\n",
       "13       0      337     3.5        335\n",
       "14       0      367     3.5        365\n",
       "15       0      541     4.0        539\n",
       "16       0      589     3.5        585\n",
       "17       0      593     3.5        589\n",
       "18       0      653     3.0        647\n",
       "19       0      919     3.5        904\n",
       "20       0      924     3.5        909\n",
       "21       0     1009     3.5        992\n",
       "22       0     1036     4.0       1019\n",
       "23       0     1079     4.0       1059\n",
       "24       0     1080     3.5       1060\n",
       "25       0     1089     3.5       1069\n",
       "26       0     1090     4.0       1070\n",
       "27       0     1097     4.0       1077\n",
       "28       0     1136     3.5       1115\n",
       "29       0     1193     3.5       1171"
      ]
     },
     "execution_count": 37,
     "metadata": {},
     "output_type": "execute_result"
    }
   ],
   "source": [
    "df.head(30)"
   ]
  },
  {
   "cell_type": "markdown",
   "id": "163537a1-0fba-451b-855e-bfe74bb15a9c",
   "metadata": {},
   "source": [
    "## Shrinking the data"
   ]
  },
  {
   "cell_type": "code",
   "execution_count": 34,
   "id": "900f2de6-edd7-4908-9a66-8b76322d5a89",
   "metadata": {},
   "outputs": [
    {
     "data": {
      "text/plain": [
       "138492"
      ]
     },
     "execution_count": 34,
     "metadata": {},
     "output_type": "execute_result"
    }
   ],
   "source": [
    "df[\"userId\"].max()"
   ]
  },
  {
   "cell_type": "code",
   "execution_count": 35,
   "id": "80e6f3de-9623-4ca1-a2fb-a51228acfb5f",
   "metadata": {},
   "outputs": [
    {
     "data": {
      "text/plain": [
       "131262"
      ]
     },
     "execution_count": 35,
     "metadata": {},
     "output_type": "execute_result"
    }
   ],
   "source": [
    "df[\"movieId\"].max()"
   ]
  },
  {
   "cell_type": "code",
   "execution_count": 36,
   "id": "66de7902-9ff4-4ddd-9689-8d11234bd0f1",
   "metadata": {},
   "outputs": [],
   "source": [
    "n=10000\n",
    "m=2000"
   ]
  },
  {
   "cell_type": "code",
   "execution_count": 41,
   "id": "67d7e9af-5798-4eb1-a46f-82dd3b1598ef",
   "metadata": {},
   "outputs": [],
   "source": [
    "from collections import Counter\n",
    "user_ids_count=Counter(df.userId)\n",
    "movie_id_count=Counter(df.movie_idx)\n"
   ]
  },
  {
   "cell_type": "code",
   "execution_count": 42,
   "id": "81888841-4dee-42b0-a920-1a8ed4847872",
   "metadata": {},
   "outputs": [],
   "source": [
    "user_ids=[u for u,c in user_ids_count.most_common(n)]"
   ]
  },
  {
   "cell_type": "code",
   "execution_count": 44,
   "id": "ef7bc911-7358-4552-b664-70c25dcdde72",
   "metadata": {},
   "outputs": [],
   "source": [
    "movie_ids=[m for m,c in movie_id_count.most_common(m)]"
   ]
  },
  {
   "cell_type": "code",
   "execution_count": null,
   "id": "92d3f9fb-3776-4711-a19a-538d865a4a6f",
   "metadata": {},
   "outputs": [],
   "source": []
  }
 ],
 "metadata": {
  "kernelspec": {
   "display_name": "Python 3 (ipykernel)",
   "language": "python",
   "name": "python3"
  },
  "language_info": {
   "codemirror_mode": {
    "name": "ipython",
    "version": 3
   },
   "file_extension": ".py",
   "mimetype": "text/x-python",
   "name": "python",
   "nbconvert_exporter": "python",
   "pygments_lexer": "ipython3",
   "version": "3.9.18"
  }
 },
 "nbformat": 4,
 "nbformat_minor": 5
}
