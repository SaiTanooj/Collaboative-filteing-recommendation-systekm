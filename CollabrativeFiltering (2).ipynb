{
 "cells": [
  {
   "cell_type": "code",
   "execution_count": 1,
   "id": "0e3bae03-376c-42c9-b2c9-fa389106b138",
   "metadata": {},
   "outputs": [],
   "source": [
    "import pandas as pd"
   ]
  },
  {
   "cell_type": "code",
   "execution_count": 4,
   "id": "87d8e9e9-2b7b-48dc-a579-0093bd4da83d",
   "metadata": {},
   "outputs": [],
   "source": [
    "df=pd.read_csv(\"rating.csv\")"
   ]
  },
  {
   "cell_type": "code",
   "execution_count": 5,
   "id": "3691f49f-9353-47ff-bd7d-122cbdd3b6e6",
   "metadata": {},
   "outputs": [
    {
     "data": {
      "text/html": [
       "<div>\n",
       "<style scoped>\n",
       "    .dataframe tbody tr th:only-of-type {\n",
       "        vertical-align: middle;\n",
       "    }\n",
       "\n",
       "    .dataframe tbody tr th {\n",
       "        vertical-align: top;\n",
       "    }\n",
       "\n",
       "    .dataframe thead th {\n",
       "        text-align: right;\n",
       "    }\n",
       "</style>\n",
       "<table border=\"1\" class=\"dataframe\">\n",
       "  <thead>\n",
       "    <tr style=\"text-align: right;\">\n",
       "      <th></th>\n",
       "      <th>userId</th>\n",
       "      <th>movieId</th>\n",
       "      <th>rating</th>\n",
       "      <th>timestamp</th>\n",
       "    </tr>\n",
       "  </thead>\n",
       "  <tbody>\n",
       "    <tr>\n",
       "      <th>0</th>\n",
       "      <td>1</td>\n",
       "      <td>2</td>\n",
       "      <td>3.5</td>\n",
       "      <td>2005-04-02 23:53:47</td>\n",
       "    </tr>\n",
       "    <tr>\n",
       "      <th>1</th>\n",
       "      <td>1</td>\n",
       "      <td>29</td>\n",
       "      <td>3.5</td>\n",
       "      <td>2005-04-02 23:31:16</td>\n",
       "    </tr>\n",
       "    <tr>\n",
       "      <th>2</th>\n",
       "      <td>1</td>\n",
       "      <td>32</td>\n",
       "      <td>3.5</td>\n",
       "      <td>2005-04-02 23:33:39</td>\n",
       "    </tr>\n",
       "    <tr>\n",
       "      <th>3</th>\n",
       "      <td>1</td>\n",
       "      <td>47</td>\n",
       "      <td>3.5</td>\n",
       "      <td>2005-04-02 23:32:07</td>\n",
       "    </tr>\n",
       "    <tr>\n",
       "      <th>4</th>\n",
       "      <td>1</td>\n",
       "      <td>50</td>\n",
       "      <td>3.5</td>\n",
       "      <td>2005-04-02 23:29:40</td>\n",
       "    </tr>\n",
       "  </tbody>\n",
       "</table>\n",
       "</div>"
      ],
      "text/plain": [
       "   userId  movieId  rating            timestamp\n",
       "0       1        2     3.5  2005-04-02 23:53:47\n",
       "1       1       29     3.5  2005-04-02 23:31:16\n",
       "2       1       32     3.5  2005-04-02 23:33:39\n",
       "3       1       47     3.5  2005-04-02 23:32:07\n",
       "4       1       50     3.5  2005-04-02 23:29:40"
      ]
     },
     "execution_count": 5,
     "metadata": {},
     "output_type": "execute_result"
    }
   ],
   "source": [
    "df.head()"
   ]
  },
  {
   "cell_type": "code",
   "execution_count": 6,
   "id": "f7a7ca0e-caa4-4b05-83dc-5548ecd8362b",
   "metadata": {},
   "outputs": [],
   "source": [
    "df=df.drop(\"timestamp\",axis=1)"
   ]
  },
  {
   "cell_type": "code",
   "execution_count": 7,
   "id": "892fe504-2001-48da-bc51-eb1523da3201",
   "metadata": {},
   "outputs": [
    {
     "data": {
      "text/html": [
       "<div>\n",
       "<style scoped>\n",
       "    .dataframe tbody tr th:only-of-type {\n",
       "        vertical-align: middle;\n",
       "    }\n",
       "\n",
       "    .dataframe tbody tr th {\n",
       "        vertical-align: top;\n",
       "    }\n",
       "\n",
       "    .dataframe thead th {\n",
       "        text-align: right;\n",
       "    }\n",
       "</style>\n",
       "<table border=\"1\" class=\"dataframe\">\n",
       "  <thead>\n",
       "    <tr style=\"text-align: right;\">\n",
       "      <th></th>\n",
       "      <th>userId</th>\n",
       "      <th>movieId</th>\n",
       "      <th>rating</th>\n",
       "    </tr>\n",
       "  </thead>\n",
       "  <tbody>\n",
       "    <tr>\n",
       "      <th>0</th>\n",
       "      <td>1</td>\n",
       "      <td>2</td>\n",
       "      <td>3.5</td>\n",
       "    </tr>\n",
       "    <tr>\n",
       "      <th>1</th>\n",
       "      <td>1</td>\n",
       "      <td>29</td>\n",
       "      <td>3.5</td>\n",
       "    </tr>\n",
       "    <tr>\n",
       "      <th>2</th>\n",
       "      <td>1</td>\n",
       "      <td>32</td>\n",
       "      <td>3.5</td>\n",
       "    </tr>\n",
       "    <tr>\n",
       "      <th>3</th>\n",
       "      <td>1</td>\n",
       "      <td>47</td>\n",
       "      <td>3.5</td>\n",
       "    </tr>\n",
       "    <tr>\n",
       "      <th>4</th>\n",
       "      <td>1</td>\n",
       "      <td>50</td>\n",
       "      <td>3.5</td>\n",
       "    </tr>\n",
       "  </tbody>\n",
       "</table>\n",
       "</div>"
      ],
      "text/plain": [
       "   userId  movieId  rating\n",
       "0       1        2     3.5\n",
       "1       1       29     3.5\n",
       "2       1       32     3.5\n",
       "3       1       47     3.5\n",
       "4       1       50     3.5"
      ]
     },
     "execution_count": 7,
     "metadata": {},
     "output_type": "execute_result"
    }
   ],
   "source": [
    "df.head()"
   ]
  },
  {
   "cell_type": "markdown",
   "id": "24b7fa9c-a2e5-4193-b5e0-218d8c7b9f53",
   "metadata": {},
   "source": [
    "### Data Visulizations"
   ]
  },
  {
   "cell_type": "code",
   "execution_count": 8,
   "id": "cd18b4db-116e-409c-a6c7-797d33db0b20",
   "metadata": {},
   "outputs": [
    {
     "data": {
      "text/html": [
       "<div>\n",
       "<style scoped>\n",
       "    .dataframe tbody tr th:only-of-type {\n",
       "        vertical-align: middle;\n",
       "    }\n",
       "\n",
       "    .dataframe tbody tr th {\n",
       "        vertical-align: top;\n",
       "    }\n",
       "\n",
       "    .dataframe thead th {\n",
       "        text-align: right;\n",
       "    }\n",
       "</style>\n",
       "<table border=\"1\" class=\"dataframe\">\n",
       "  <thead>\n",
       "    <tr style=\"text-align: right;\">\n",
       "      <th></th>\n",
       "      <th>userId</th>\n",
       "      <th>movieId</th>\n",
       "      <th>rating</th>\n",
       "    </tr>\n",
       "  </thead>\n",
       "  <tbody>\n",
       "    <tr>\n",
       "      <th>count</th>\n",
       "      <td>2.000026e+07</td>\n",
       "      <td>2.000026e+07</td>\n",
       "      <td>2.000026e+07</td>\n",
       "    </tr>\n",
       "    <tr>\n",
       "      <th>mean</th>\n",
       "      <td>6.904587e+04</td>\n",
       "      <td>9.041567e+03</td>\n",
       "      <td>3.525529e+00</td>\n",
       "    </tr>\n",
       "    <tr>\n",
       "      <th>std</th>\n",
       "      <td>4.003863e+04</td>\n",
       "      <td>1.978948e+04</td>\n",
       "      <td>1.051989e+00</td>\n",
       "    </tr>\n",
       "    <tr>\n",
       "      <th>min</th>\n",
       "      <td>1.000000e+00</td>\n",
       "      <td>1.000000e+00</td>\n",
       "      <td>5.000000e-01</td>\n",
       "    </tr>\n",
       "    <tr>\n",
       "      <th>25%</th>\n",
       "      <td>3.439500e+04</td>\n",
       "      <td>9.020000e+02</td>\n",
       "      <td>3.000000e+00</td>\n",
       "    </tr>\n",
       "    <tr>\n",
       "      <th>50%</th>\n",
       "      <td>6.914100e+04</td>\n",
       "      <td>2.167000e+03</td>\n",
       "      <td>3.500000e+00</td>\n",
       "    </tr>\n",
       "    <tr>\n",
       "      <th>75%</th>\n",
       "      <td>1.036370e+05</td>\n",
       "      <td>4.770000e+03</td>\n",
       "      <td>4.000000e+00</td>\n",
       "    </tr>\n",
       "    <tr>\n",
       "      <th>max</th>\n",
       "      <td>1.384930e+05</td>\n",
       "      <td>1.312620e+05</td>\n",
       "      <td>5.000000e+00</td>\n",
       "    </tr>\n",
       "  </tbody>\n",
       "</table>\n",
       "</div>"
      ],
      "text/plain": [
       "             userId       movieId        rating\n",
       "count  2.000026e+07  2.000026e+07  2.000026e+07\n",
       "mean   6.904587e+04  9.041567e+03  3.525529e+00\n",
       "std    4.003863e+04  1.978948e+04  1.051989e+00\n",
       "min    1.000000e+00  1.000000e+00  5.000000e-01\n",
       "25%    3.439500e+04  9.020000e+02  3.000000e+00\n",
       "50%    6.914100e+04  2.167000e+03  3.500000e+00\n",
       "75%    1.036370e+05  4.770000e+03  4.000000e+00\n",
       "max    1.384930e+05  1.312620e+05  5.000000e+00"
      ]
     },
     "execution_count": 8,
     "metadata": {},
     "output_type": "execute_result"
    }
   ],
   "source": [
    "df.describe()"
   ]
  },
  {
   "cell_type": "markdown",
   "id": "6747a8e4-bdc1-41b8-a4dd-ed0d08a31361",
   "metadata": {},
   "source": [
    "## Number of unique users and movies"
   ]
  },
  {
   "cell_type": "code",
   "execution_count": 9,
   "id": "a11a9561-6090-4902-94e6-4fb9c5940b83",
   "metadata": {},
   "outputs": [
    {
     "data": {
      "text/plain": [
       "138493"
      ]
     },
     "execution_count": 9,
     "metadata": {},
     "output_type": "execute_result"
    }
   ],
   "source": [
    "df[\"userId\"].nunique()"
   ]
  },
  {
   "cell_type": "code",
   "execution_count": 10,
   "id": "0ce0e361-ebf8-4e86-8355-3711cc5641f1",
   "metadata": {},
   "outputs": [
    {
     "data": {
      "text/plain": [
       "26744"
      ]
     },
     "execution_count": 10,
     "metadata": {},
     "output_type": "execute_result"
    }
   ],
   "source": [
    "df[\"movieId\"].nunique()"
   ]
  },
  {
   "cell_type": "code",
   "execution_count": 12,
   "id": "12722893-97ac-47bc-841d-c4fb8dff86fd",
   "metadata": {},
   "outputs": [
    {
     "data": {
      "text/plain": [
       "(20000263, 3)"
      ]
     },
     "execution_count": 12,
     "metadata": {},
     "output_type": "execute_result"
    }
   ],
   "source": [
    "df.shape"
   ]
  },
  {
   "cell_type": "markdown",
   "id": "60849382-d14c-4d1c-9625-81d0f51b321f",
   "metadata": {},
   "source": [
    "#### ANlyse thorugh ratings"
   ]
  },
  {
   "cell_type": "code",
   "execution_count": 14,
   "id": "ffe683a8-a8f1-4c43-87a7-aeef2ca1a25c",
   "metadata": {},
   "outputs": [
    {
     "data": {
      "text/plain": [
       "10"
      ]
     },
     "execution_count": 14,
     "metadata": {},
     "output_type": "execute_result"
    }
   ],
   "source": [
    "df[\"rating\"].nunique()"
   ]
  },
  {
   "cell_type": "code",
   "execution_count": 15,
   "id": "2fb489d7-95cf-4b65-ba65-425c76e6193a",
   "metadata": {},
   "outputs": [
    {
     "data": {
      "text/plain": [
       "array([3.5, 4. , 3. , 4.5, 5. , 2. , 1. , 2.5, 0.5, 1.5])"
      ]
     },
     "execution_count": 15,
     "metadata": {},
     "output_type": "execute_result"
    }
   ],
   "source": [
    "df[\"rating\"].unique()"
   ]
  },
  {
   "cell_type": "code",
   "execution_count": 16,
   "id": "413211cc-65e2-4bc2-8f51-87e68f04047f",
   "metadata": {},
   "outputs": [],
   "source": [
    "import seaborn as sn"
   ]
  },
  {
   "cell_type": "code",
   "execution_count": 17,
   "id": "bb3118de-cb00-41bc-9caf-a938b9bf6b2b",
   "metadata": {},
   "outputs": [],
   "source": [
    "import matplotlib.pyplot as plt"
   ]
  },
  {
   "cell_type": "code",
   "execution_count": 19,
   "id": "d42d92f9-2059-452e-aa06-de4d4d92f18d",
   "metadata": {},
   "outputs": [
    {
     "data": {
      "text/plain": [
       "<Axes: xlabel='rating', ylabel='count'>"
      ]
     },
     "execution_count": 19,
     "metadata": {},
     "output_type": "execute_result"
    },
    {
     "data": {
      "image/png": "[encoded data removed]",
      "text/plain": [
       "<Figure size 640x480 with 1 Axes>"
      ]
     },
     "metadata": {},
     "output_type": "display_data"
    }
   ],
   "source": [
    "sn.countplot(data=df,x=\"rating\")"
   ]
  },
  {
   "cell_type": "code",
   "execution_count": 22,
   "id": "b8d78e94-1630-4338-94b0-9134af5ba2e4",
   "metadata": {},
   "outputs": [
    {
     "data": {
      "text/plain": [
       "rating\n",
       "4.0    5561926\n",
       "3.0    4291193\n",
       "5.0    2898660\n",
       "3.5    2200156\n",
       "4.5    1534824\n",
       "2.0    1430997\n",
       "2.5     883398\n",
       "1.0     680732\n",
       "1.5     279252\n",
       "0.5     239125\n",
       "Name: count, dtype: int64"
      ]
     },
     "execution_count": 22,
     "metadata": {},
     "output_type": "execute_result"
    }
   ],
   "source": [
    "df[\"rating\"].value_counts()"
   ]
  },
  {
   "cell_type": "markdown",
   "id": "652981c8-b8cc-4902-9b64-1693837ff87a",
   "metadata": {},
   "source": [
    "### Number of ratings per user"
   ]
  },
  {
   "cell_type": "code",
   "execution_count": 24,
   "id": "fbd7a416-6a93-458f-8c18-04dcfa7873e5",
   "metadata": {},
   "outputs": [],
   "source": [
    "rating_user=df.groupby(\"userId\").count()[\"rating\"]"
   ]
  },
  {
   "cell_type": "code",
   "execution_count": 28,
   "id": "92bdd63a-f13e-4549-8815-23db80ef7df7",
   "metadata": {},
   "outputs": [
    {
     "data": {
      "text/plain": [
       "(array([1.12562e+05, 1.48380e+04, 5.30700e+03, 2.37400e+03, 1.28700e+03,\n",
       "        7.84000e+02, 4.61000e+02, 2.97000e+02, 1.67000e+02, 1.08000e+02,\n",
       "        7.10000e+01, 6.70000e+01, 4.30000e+01, 2.70000e+01, 2.80000e+01,\n",
       "        1.60000e+01, 1.00000e+01, 5.00000e+00, 9.00000e+00, 7.00000e+00,\n",
       "        4.00000e+00, 2.00000e+00, 5.00000e+00, 1.00000e+00, 1.00000e+00,\n",
       "        2.00000e+00, 1.00000e+00, 1.00000e+00, 2.00000e+00, 3.00000e+00,\n",
       "        1.00000e+00, 0.00000e+00, 0.00000e+00, 0.00000e+00, 0.00000e+00,\n",
       "        0.00000e+00, 0.00000e+00, 0.00000e+00, 0.00000e+00, 0.00000e+00,\n",
       "        1.00000e+00, 0.00000e+00, 0.00000e+00, 0.00000e+00, 0.00000e+00,\n",
       "        0.00000e+00, 0.00000e+00, 0.00000e+00, 0.00000e+00, 1.00000e+00]),\n",
       " array([  20.  ,  204.68,  389.36,  574.04,  758.72,  943.4 , 1128.08,\n",
       "        1312.76, 1497.44, 1682.12, 1866.8 , 2051.48, 2236.16, 2420.84,\n",
       "        2605.52, 2790.2 , 2974.88, 3159.56, 3344.24, 3528.92, 3713.6 ,\n",
       "        3898.28, 4082.96, 4267.64, 4452.32, 4637.  , 4821.68, 5006.36,\n",
       "        5191.04, 5375.72, 5560.4 , 5745.08, 5929.76, 6114.44, 6299.12,\n",
       "        6483.8 , 6668.48, 6853.16, 7037.84, 7222.52, 7407.2 , 7591.88,\n",
       "        7776.56, 7961.24, 8145.92, 8330.6 , 8515.28, 8699.96, 8884.64,\n",
       "        9069.32, 9254.  ]),\n",
       " <BarContainer object of 50 artists>)"
      ]
     },
     "execution_count": 28,
     "metadata": {},
     "output_type": "execute_result"
    },
    {
     "data": {
      "image/png": "[encoded data removed]",
      "text/plain": [
       "<Figure size 640x480 with 1 Axes>"
      ]
     },
     "metadata": {},
     "output_type": "display_data"
    }
   ],
   "source": [
    "plt.hist(rating_user, bins=50, edgecolor='black')\n"
   ]
  },
  {
   "cell_type": "markdown",
   "id": "41d28111-2876-4a10-bbd6-9f1e7ad2e8cc",
   "metadata": {},
   "source": [
    "### Number of ratings per movie"
   ]
  },
  {
   "cell_type": "code",
   "execution_count": 30,
   "id": "f083a57c-ea9c-4021-8ff9-f5dfff4efc68",
   "metadata": {},
   "outputs": [],
   "source": [
    "rating_movie=df.groupby(\"movieId\").count()[\"rating\"]"
   ]
  },
  {
   "cell_type": "code",
   "execution_count": 31,
   "id": "c30be606-75bc-458f-8385-2101a3c54469",
   "metadata": {},
   "outputs": [
    {
     "data": {
      "text/plain": [
       "(array([2.412e+04, 9.490e+02, 4.570e+02, 2.830e+02, 1.900e+02, 1.400e+02,\n",
       "        1.120e+02, 7.200e+01, 5.900e+01, 5.500e+01, 5.000e+01, 4.000e+01,\n",
       "        2.100e+01, 2.000e+01, 1.800e+01, 2.100e+01, 1.500e+01, 1.900e+01,\n",
       "        1.400e+01, 8.000e+00, 8.000e+00, 9.000e+00, 5.000e+00, 9.000e+00,\n",
       "        7.000e+00, 5.000e+00, 2.000e+00, 3.000e+00, 3.000e+00, 1.000e+00,\n",
       "        3.000e+00, 1.000e+00, 5.000e+00, 3.000e+00, 4.000e+00, 1.000e+00,\n",
       "        2.000e+00, 1.000e+00, 2.000e+00, 1.000e+00, 1.000e+00, 0.000e+00,\n",
       "        0.000e+00, 0.000e+00, 1.000e+00, 0.000e+00, 0.000e+00, 2.000e+00,\n",
       "        0.000e+00, 2.000e+00]),\n",
       " array([1.000000e+00, 1.347180e+03, 2.693360e+03, 4.039540e+03,\n",
       "        5.385720e+03, 6.731900e+03, 8.078080e+03, 9.424260e+03,\n",
       "        1.077044e+04, 1.211662e+04, 1.346280e+04, 1.480898e+04,\n",
       "        1.615516e+04, 1.750134e+04, 1.884752e+04, 2.019370e+04,\n",
       "        2.153988e+04, 2.288606e+04, 2.423224e+04, 2.557842e+04,\n",
       "        2.692460e+04, 2.827078e+04, 2.961696e+04, 3.096314e+04,\n",
       "        3.230932e+04, 3.365550e+04, 3.500168e+04, 3.634786e+04,\n",
       "        3.769404e+04, 3.904022e+04, 4.038640e+04, 4.173258e+04,\n",
       "        4.307876e+04, 4.442494e+04, 4.577112e+04, 4.711730e+04,\n",
       "        4.846348e+04, 4.980966e+04, 5.115584e+04, 5.250202e+04,\n",
       "        5.384820e+04, 5.519438e+04, 5.654056e+04, 5.788674e+04,\n",
       "        5.923292e+04, 6.057910e+04, 6.192528e+04, 6.327146e+04,\n",
       "        6.461764e+04, 6.596382e+04, 6.731000e+04]),\n",
       " <BarContainer object of 50 artists>)"
      ]
     },
     "execution_count": 31,
     "metadata": {},
     "output_type": "execute_result"
    },
    {
     "data": {
      "image/png": "[encoded data removed]",
      "text/plain": [
       "<Figure size 640x480 with 1 Axes>"
      ]
     },
     "metadata": {},
     "output_type": "display_data"
    }
   ],
   "source": [
    "plt.hist(rating_movie,bins=50)"
   ]
  },
  {
   "cell_type": "markdown",
   "id": "8227d880-a72d-49b9-9bf9-e454a34d96b6",
   "metadata": {},
   "source": [
    "### Movies with the highest rating"
   ]
  },
  {
   "cell_type": "code",
   "execution_count": 36,
   "id": "cf4726e7-060b-41b9-9774-3ce3de627a37",
   "metadata": {},
   "outputs": [],
   "source": [
    "rat=df[\"rating\"].max()"
   ]
  },
  {
   "cell_type": "code",
   "execution_count": 39,
   "id": "1ebe4bec-4e47-4bed-b52c-da36518a9979",
   "metadata": {},
   "outputs": [],
   "source": [
    "movie=df[df[\"rating\"]==rat]"
   ]
  },
  {
   "cell_type": "code",
   "execution_count": 43,
   "id": "9ba5ecc2-2af5-494f-bb17-0b89268c7158",
   "metadata": {},
   "outputs": [
    {
     "data": {
      "text/plain": [
       "(2898660,)"
      ]
     },
     "execution_count": 43,
     "metadata": {},
     "output_type": "execute_result"
    }
   ],
   "source": [
    "movie[\"movieId\"].shape"
   ]
  },
  {
   "cell_type": "markdown",
   "id": "f8a3179a-2a9e-4476-b7ad-bfb807330bb5",
   "metadata": {},
   "source": [
    "### Average ratings of movies"
   ]
  },
  {
   "cell_type": "code",
   "execution_count": 45,
   "id": "efd30c75-2a34-4f30-85e2-fde03b435eef",
   "metadata": {},
   "outputs": [],
   "source": [
    "avg=df[\"rating\"].mean()"
   ]
  },
  {
   "cell_type": "code",
   "execution_count": 46,
   "id": "27256bcb-27e2-4581-9c39-37487c846e47",
   "metadata": {},
   "outputs": [
    {
     "data": {
      "text/plain": [
       "3.5255285642993797"
      ]
     },
     "execution_count": 46,
     "metadata": {},
     "output_type": "execute_result"
    }
   ],
   "source": [
    "avg"
   ]
  },
  {
   "cell_type": "markdown",
   "id": "2e044c1e-54d2-4acd-ad9d-f5423ddc499e",
   "metadata": {},
   "source": [
    "###### Movies less than avg rating"
   ]
  },
  {
   "cell_type": "code",
   "execution_count": 47,
   "id": "ce242be8-8f92-4819-a7ac-7f3442d1701e",
   "metadata": {},
   "outputs": [],
   "source": [
    "rat=df[df[\"rating\"]<avg]"
   ]
  },
  {
   "cell_type": "code",
   "execution_count": 53,
   "id": "9f60c6a3-043d-4d9a-8ff3-c779e16c9c34",
   "metadata": {},
   "outputs": [
    {
     "data": {
      "text/plain": [
       "(10004853, 3)"
      ]
     },
     "execution_count": 53,
     "metadata": {},
     "output_type": "execute_result"
    }
   ],
   "source": [
    "rat.shape"
   ]
  },
  {
   "cell_type": "markdown",
   "id": "a4398c28-8c5d-4f40-aaf0-6c55a56a328d",
   "metadata": {},
   "source": [
    "######## Movies greater than avg rating"
   ]
  },
  {
   "cell_type": "code",
   "execution_count": 50,
   "id": "7d19819a-8085-4460-bf53-0db32199ecb6",
   "metadata": {},
   "outputs": [],
   "source": [
    "rat_great=df[df[\"rating\"]>avg]"
   ]
  },
  {
   "cell_type": "code",
   "execution_count": 51,
   "id": "adc4695d-ee0e-40bd-a79a-7e49814d4d24",
   "metadata": {},
   "outputs": [
    {
     "data": {
      "text/plain": [
       "(9995410, 3)"
      ]
     },
     "execution_count": 51,
     "metadata": {},
     "output_type": "execute_result"
    }
   ],
   "source": [
    "rat_great.shape"
   ]
  },
  {
   "cell_type": "markdown",
   "id": "916cceb4-b346-4800-94c9-e6acc3db0a5b",
   "metadata": {},
   "source": [
    "### User user collabrative filtering"
   ]
  },
  {
   "cell_type": "code",
   "execution_count": 61,
   "id": "c2b556f5-03ee-4606-85d4-cdef21bd6fda",
   "metadata": {},
   "outputs": [],
   "source": [
    "top_users = df['userId'].value_counts().nlargest(10000).index\n",
    "\n",
    "top_movies = df['movieId'].value_counts().nlargest(2000).index\n",
    "\n",
    "filtered_df = df[df['userId'].isin(top_users) & df['movieId'].isin(top_movies)]"
   ]
  },
  {
   "cell_type": "code",
   "execution_count": 62,
   "id": "655cd9e7-02af-41ae-91fa-5e032884c1df",
   "metadata": {},
   "outputs": [
    {
     "data": {
      "text/plain": [
       "(5391980, 3)"
      ]
     },
     "execution_count": 62,
     "metadata": {},
     "output_type": "execute_result"
    }
   ],
   "source": [
    "filtered_df.shape"
   ]
  },
  {
   "cell_type": "code",
   "execution_count": 63,
   "id": "47c602c8-bdf0-4939-b5da-07464e7deca9",
   "metadata": {},
   "outputs": [
    {
     "data": {
      "text/plain": [
       "(20000263, 3)"
      ]
     },
     "execution_count": 63,
     "metadata": {},
     "output_type": "execute_result"
    }
   ],
   "source": [
    "df.shape"
   ]
  },
  {
   "cell_type": "code",
   "execution_count": 64,
   "id": "f7d14051-da91-4411-bf01-2a55a4228fdf",
   "metadata": {},
   "outputs": [
    {
     "name": "stdout",
     "output_type": "stream",
     "text": [
      "<class 'pandas.core.frame.DataFrame'>\n",
      "Index: 5391980 entries, 960 to 19998296\n",
      "Data columns (total 3 columns):\n",
      " #   Column   Dtype  \n",
      "---  ------   -----  \n",
      " 0   userId   int64  \n",
      " 1   movieId  int64  \n",
      " 2   rating   float64\n",
      "dtypes: float64(1), int64(2)\n",
      "memory usage: 164.6 MB\n"
     ]
    }
   ],
   "source": [
    "filtered_df.info()"
   ]
  },
  {
   "cell_type": "code",
   "execution_count": 65,
   "id": "83e0b430-89c8-41f4-8bc0-cc2a26a45454",
   "metadata": {},
   "outputs": [],
   "source": [
    "user_item_matrix=filtered_df.pivot(index=\"userId\",columns=\"movieId\",values=\"rating\")"
   ]
  },
  {
   "cell_type": "code",
   "execution_count": 66,
   "id": "e2d6f513-da3b-43af-854e-e9c89f2ec4f4",
   "metadata": {},
   "outputs": [
    {
     "data": {
      "text/html": [
       "<div>\n",
       "<style scoped>\n",
       "    .dataframe tbody tr th:only-of-type {\n",
       "        vertical-align: middle;\n",
       "    }\n",
       "\n",
       "    .dataframe tbody tr th {\n",
       "        vertical-align: top;\n",
       "    }\n",
       "\n",
       "    .dataframe thead th {\n",
       "        text-align: right;\n",
       "    }\n",
       "</style>\n",
       "<table border=\"1\" class=\"dataframe\">\n",
       "  <thead>\n",
       "    <tr style=\"text-align: right;\">\n",
       "      <th>movieId</th>\n",
       "      <th>1</th>\n",
       "      <th>2</th>\n",
       "      <th>3</th>\n",
       "      <th>4</th>\n",
       "      <th>5</th>\n",
       "      <th>6</th>\n",
       "      <th>7</th>\n",
       "      <th>9</th>\n",
       "      <th>10</th>\n",
       "      <th>11</th>\n",
       "      <th>...</th>\n",
       "      <th>94864</th>\n",
       "      <th>94959</th>\n",
       "      <th>96079</th>\n",
       "      <th>96610</th>\n",
       "      <th>97304</th>\n",
       "      <th>97921</th>\n",
       "      <th>98809</th>\n",
       "      <th>99114</th>\n",
       "      <th>104841</th>\n",
       "      <th>109374</th>\n",
       "    </tr>\n",
       "    <tr>\n",
       "      <th>userId</th>\n",
       "      <th></th>\n",
       "      <th></th>\n",
       "      <th></th>\n",
       "      <th></th>\n",
       "      <th></th>\n",
       "      <th></th>\n",
       "      <th></th>\n",
       "      <th></th>\n",
       "      <th></th>\n",
       "      <th></th>\n",
       "      <th></th>\n",
       "      <th></th>\n",
       "      <th></th>\n",
       "      <th></th>\n",
       "      <th></th>\n",
       "      <th></th>\n",
       "      <th></th>\n",
       "      <th></th>\n",
       "      <th></th>\n",
       "      <th></th>\n",
       "      <th></th>\n",
       "    </tr>\n",
       "  </thead>\n",
       "  <tbody>\n",
       "    <tr>\n",
       "      <th>11</th>\n",
       "      <td>4.5</td>\n",
       "      <td>NaN</td>\n",
       "      <td>NaN</td>\n",
       "      <td>NaN</td>\n",
       "      <td>NaN</td>\n",
       "      <td>NaN</td>\n",
       "      <td>NaN</td>\n",
       "      <td>NaN</td>\n",
       "      <td>2.5</td>\n",
       "      <td>NaN</td>\n",
       "      <td>...</td>\n",
       "      <td>NaN</td>\n",
       "      <td>NaN</td>\n",
       "      <td>NaN</td>\n",
       "      <td>NaN</td>\n",
       "      <td>NaN</td>\n",
       "      <td>NaN</td>\n",
       "      <td>NaN</td>\n",
       "      <td>NaN</td>\n",
       "      <td>NaN</td>\n",
       "      <td>NaN</td>\n",
       "    </tr>\n",
       "    <tr>\n",
       "      <th>24</th>\n",
       "      <td>4.0</td>\n",
       "      <td>NaN</td>\n",
       "      <td>NaN</td>\n",
       "      <td>NaN</td>\n",
       "      <td>2.0</td>\n",
       "      <td>4.0</td>\n",
       "      <td>3.0</td>\n",
       "      <td>NaN</td>\n",
       "      <td>3.0</td>\n",
       "      <td>NaN</td>\n",
       "      <td>...</td>\n",
       "      <td>NaN</td>\n",
       "      <td>NaN</td>\n",
       "      <td>NaN</td>\n",
       "      <td>NaN</td>\n",
       "      <td>NaN</td>\n",
       "      <td>NaN</td>\n",
       "      <td>NaN</td>\n",
       "      <td>NaN</td>\n",
       "      <td>NaN</td>\n",
       "      <td>NaN</td>\n",
       "    </tr>\n",
       "    <tr>\n",
       "      <th>54</th>\n",
       "      <td>4.0</td>\n",
       "      <td>3.0</td>\n",
       "      <td>NaN</td>\n",
       "      <td>NaN</td>\n",
       "      <td>3.0</td>\n",
       "      <td>3.0</td>\n",
       "      <td>NaN</td>\n",
       "      <td>NaN</td>\n",
       "      <td>4.0</td>\n",
       "      <td>5.0</td>\n",
       "      <td>...</td>\n",
       "      <td>NaN</td>\n",
       "      <td>NaN</td>\n",
       "      <td>NaN</td>\n",
       "      <td>NaN</td>\n",
       "      <td>NaN</td>\n",
       "      <td>NaN</td>\n",
       "      <td>NaN</td>\n",
       "      <td>NaN</td>\n",
       "      <td>NaN</td>\n",
       "      <td>NaN</td>\n",
       "    </tr>\n",
       "    <tr>\n",
       "      <th>58</th>\n",
       "      <td>5.0</td>\n",
       "      <td>NaN</td>\n",
       "      <td>NaN</td>\n",
       "      <td>NaN</td>\n",
       "      <td>NaN</td>\n",
       "      <td>4.5</td>\n",
       "      <td>NaN</td>\n",
       "      <td>NaN</td>\n",
       "      <td>NaN</td>\n",
       "      <td>4.5</td>\n",
       "      <td>...</td>\n",
       "      <td>NaN</td>\n",
       "      <td>NaN</td>\n",
       "      <td>NaN</td>\n",
       "      <td>NaN</td>\n",
       "      <td>NaN</td>\n",
       "      <td>NaN</td>\n",
       "      <td>NaN</td>\n",
       "      <td>NaN</td>\n",
       "      <td>NaN</td>\n",
       "      <td>NaN</td>\n",
       "    </tr>\n",
       "    <tr>\n",
       "      <th>91</th>\n",
       "      <td>4.0</td>\n",
       "      <td>3.5</td>\n",
       "      <td>3.0</td>\n",
       "      <td>NaN</td>\n",
       "      <td>NaN</td>\n",
       "      <td>NaN</td>\n",
       "      <td>2.5</td>\n",
       "      <td>NaN</td>\n",
       "      <td>4.0</td>\n",
       "      <td>4.0</td>\n",
       "      <td>...</td>\n",
       "      <td>NaN</td>\n",
       "      <td>NaN</td>\n",
       "      <td>NaN</td>\n",
       "      <td>NaN</td>\n",
       "      <td>NaN</td>\n",
       "      <td>NaN</td>\n",
       "      <td>NaN</td>\n",
       "      <td>NaN</td>\n",
       "      <td>NaN</td>\n",
       "      <td>NaN</td>\n",
       "    </tr>\n",
       "    <tr>\n",
       "      <th>...</th>\n",
       "      <td>...</td>\n",
       "      <td>...</td>\n",
       "      <td>...</td>\n",
       "      <td>...</td>\n",
       "      <td>...</td>\n",
       "      <td>...</td>\n",
       "      <td>...</td>\n",
       "      <td>...</td>\n",
       "      <td>...</td>\n",
       "      <td>...</td>\n",
       "      <td>...</td>\n",
       "      <td>...</td>\n",
       "      <td>...</td>\n",
       "      <td>...</td>\n",
       "      <td>...</td>\n",
       "      <td>...</td>\n",
       "      <td>...</td>\n",
       "      <td>...</td>\n",
       "      <td>...</td>\n",
       "      <td>...</td>\n",
       "      <td>...</td>\n",
       "    </tr>\n",
       "    <tr>\n",
       "      <th>138404</th>\n",
       "      <td>5.0</td>\n",
       "      <td>2.5</td>\n",
       "      <td>NaN</td>\n",
       "      <td>NaN</td>\n",
       "      <td>NaN</td>\n",
       "      <td>NaN</td>\n",
       "      <td>3.5</td>\n",
       "      <td>NaN</td>\n",
       "      <td>NaN</td>\n",
       "      <td>NaN</td>\n",
       "      <td>...</td>\n",
       "      <td>NaN</td>\n",
       "      <td>NaN</td>\n",
       "      <td>NaN</td>\n",
       "      <td>NaN</td>\n",
       "      <td>NaN</td>\n",
       "      <td>NaN</td>\n",
       "      <td>NaN</td>\n",
       "      <td>NaN</td>\n",
       "      <td>NaN</td>\n",
       "      <td>NaN</td>\n",
       "    </tr>\n",
       "    <tr>\n",
       "      <th>138406</th>\n",
       "      <td>4.0</td>\n",
       "      <td>3.0</td>\n",
       "      <td>NaN</td>\n",
       "      <td>NaN</td>\n",
       "      <td>NaN</td>\n",
       "      <td>NaN</td>\n",
       "      <td>NaN</td>\n",
       "      <td>NaN</td>\n",
       "      <td>3.0</td>\n",
       "      <td>NaN</td>\n",
       "      <td>...</td>\n",
       "      <td>NaN</td>\n",
       "      <td>NaN</td>\n",
       "      <td>NaN</td>\n",
       "      <td>NaN</td>\n",
       "      <td>NaN</td>\n",
       "      <td>NaN</td>\n",
       "      <td>NaN</td>\n",
       "      <td>4.0</td>\n",
       "      <td>NaN</td>\n",
       "      <td>NaN</td>\n",
       "    </tr>\n",
       "    <tr>\n",
       "      <th>138411</th>\n",
       "      <td>5.0</td>\n",
       "      <td>NaN</td>\n",
       "      <td>NaN</td>\n",
       "      <td>NaN</td>\n",
       "      <td>NaN</td>\n",
       "      <td>5.0</td>\n",
       "      <td>NaN</td>\n",
       "      <td>NaN</td>\n",
       "      <td>3.5</td>\n",
       "      <td>2.5</td>\n",
       "      <td>...</td>\n",
       "      <td>NaN</td>\n",
       "      <td>NaN</td>\n",
       "      <td>NaN</td>\n",
       "      <td>NaN</td>\n",
       "      <td>NaN</td>\n",
       "      <td>NaN</td>\n",
       "      <td>NaN</td>\n",
       "      <td>NaN</td>\n",
       "      <td>NaN</td>\n",
       "      <td>NaN</td>\n",
       "    </tr>\n",
       "    <tr>\n",
       "      <th>138437</th>\n",
       "      <td>4.0</td>\n",
       "      <td>NaN</td>\n",
       "      <td>NaN</td>\n",
       "      <td>NaN</td>\n",
       "      <td>NaN</td>\n",
       "      <td>4.0</td>\n",
       "      <td>NaN</td>\n",
       "      <td>NaN</td>\n",
       "      <td>NaN</td>\n",
       "      <td>NaN</td>\n",
       "      <td>...</td>\n",
       "      <td>4.0</td>\n",
       "      <td>4.5</td>\n",
       "      <td>3.0</td>\n",
       "      <td>NaN</td>\n",
       "      <td>NaN</td>\n",
       "      <td>2.0</td>\n",
       "      <td>3.5</td>\n",
       "      <td>5.0</td>\n",
       "      <td>NaN</td>\n",
       "      <td>NaN</td>\n",
       "    </tr>\n",
       "    <tr>\n",
       "      <th>138474</th>\n",
       "      <td>5.0</td>\n",
       "      <td>4.0</td>\n",
       "      <td>NaN</td>\n",
       "      <td>NaN</td>\n",
       "      <td>4.0</td>\n",
       "      <td>5.0</td>\n",
       "      <td>NaN</td>\n",
       "      <td>4.0</td>\n",
       "      <td>4.0</td>\n",
       "      <td>NaN</td>\n",
       "      <td>...</td>\n",
       "      <td>NaN</td>\n",
       "      <td>NaN</td>\n",
       "      <td>NaN</td>\n",
       "      <td>NaN</td>\n",
       "      <td>NaN</td>\n",
       "      <td>NaN</td>\n",
       "      <td>NaN</td>\n",
       "      <td>NaN</td>\n",
       "      <td>NaN</td>\n",
       "      <td>NaN</td>\n",
       "    </tr>\n",
       "  </tbody>\n",
       "</table>\n",
       "<p>10000 rows × 2000 columns</p>\n",
       "</div>"
      ],
      "text/plain": [
       "movieId  1       2       3       4       5       6       7       9       \\\n",
       "userId                                                                    \n",
       "11          4.5     NaN     NaN     NaN     NaN     NaN     NaN     NaN   \n",
       "24          4.0     NaN     NaN     NaN     2.0     4.0     3.0     NaN   \n",
       "54          4.0     3.0     NaN     NaN     3.0     3.0     NaN     NaN   \n",
       "58          5.0     NaN     NaN     NaN     NaN     4.5     NaN     NaN   \n",
       "91          4.0     3.5     3.0     NaN     NaN     NaN     2.5     NaN   \n",
       "...         ...     ...     ...     ...     ...     ...     ...     ...   \n",
       "138404      5.0     2.5     NaN     NaN     NaN     NaN     3.5     NaN   \n",
       "138406      4.0     3.0     NaN     NaN     NaN     NaN     NaN     NaN   \n",
       "138411      5.0     NaN     NaN     NaN     NaN     5.0     NaN     NaN   \n",
       "138437      4.0     NaN     NaN     NaN     NaN     4.0     NaN     NaN   \n",
       "138474      5.0     4.0     NaN     NaN     4.0     5.0     NaN     4.0   \n",
       "\n",
       "movieId  10      11      ...  94864   94959   96079   96610   97304   97921   \\\n",
       "userId                   ...                                                   \n",
       "11          2.5     NaN  ...     NaN     NaN     NaN     NaN     NaN     NaN   \n",
       "24          3.0     NaN  ...     NaN     NaN     NaN     NaN     NaN     NaN   \n",
       "54          4.0     5.0  ...     NaN     NaN     NaN     NaN     NaN     NaN   \n",
       "58          NaN     4.5  ...     NaN     NaN     NaN     NaN     NaN     NaN   \n",
       "91          4.0     4.0  ...     NaN     NaN     NaN     NaN     NaN     NaN   \n",
       "...         ...     ...  ...     ...     ...     ...     ...     ...     ...   \n",
       "138404      NaN     NaN  ...     NaN     NaN     NaN     NaN     NaN     NaN   \n",
       "138406      3.0     NaN  ...     NaN     NaN     NaN     NaN     NaN     NaN   \n",
       "138411      3.5     2.5  ...     NaN     NaN     NaN     NaN     NaN     NaN   \n",
       "138437      NaN     NaN  ...     4.0     4.5     3.0     NaN     NaN     2.0   \n",
       "138474      4.0     NaN  ...     NaN     NaN     NaN     NaN     NaN     NaN   \n",
       "\n",
       "movieId  98809   99114   104841  109374  \n",
       "userId                                   \n",
       "11          NaN     NaN     NaN     NaN  \n",
       "24          NaN     NaN     NaN     NaN  \n",
       "54          NaN     NaN     NaN     NaN  \n",
       "58          NaN     NaN     NaN     NaN  \n",
       "91          NaN     NaN     NaN     NaN  \n",
       "...         ...     ...     ...     ...  \n",
       "138404      NaN     NaN     NaN     NaN  \n",
       "138406      NaN     4.0     NaN     NaN  \n",
       "138411      NaN     NaN     NaN     NaN  \n",
       "138437      3.5     5.0     NaN     NaN  \n",
       "138474      NaN     NaN     NaN     NaN  \n",
       "\n",
       "[10000 rows x 2000 columns]"
      ]
     },
     "execution_count": 66,
     "metadata": {},
     "output_type": "execute_result"
    }
   ],
   "source": [
    "user_item_matrix"
   ]
  },
  {
   "cell_type": "code",
   "execution_count": 67,
   "id": "887f0d2b-9361-465a-9c01-87dfd6fd7d82",
   "metadata": {},
   "outputs": [],
   "source": [
    "user_item_matrix.fillna(0,inplace=True)"
   ]
  },
  {
   "cell_type": "code",
   "execution_count": 68,
   "id": "53c32d24-6531-4045-812b-866c03114e1d",
   "metadata": {},
   "outputs": [
    {
     "data": {
      "text/html": [
       "<div>\n",
       "<style scoped>\n",
       "    .dataframe tbody tr th:only-of-type {\n",
       "        vertical-align: middle;\n",
       "    }\n",
       "\n",
       "    .dataframe tbody tr th {\n",
       "        vertical-align: top;\n",
       "    }\n",
       "\n",
       "    .dataframe thead th {\n",
       "        text-align: right;\n",
       "    }\n",
       "</style>\n",
       "<table border=\"1\" class=\"dataframe\">\n",
       "  <thead>\n",
       "    <tr style=\"text-align: right;\">\n",
       "      <th>movieId</th>\n",
       "      <th>1</th>\n",
       "      <th>2</th>\n",
       "      <th>3</th>\n",
       "      <th>4</th>\n",
       "      <th>5</th>\n",
       "      <th>6</th>\n",
       "      <th>7</th>\n",
       "      <th>9</th>\n",
       "      <th>10</th>\n",
       "      <th>11</th>\n",
       "      <th>...</th>\n",
       "      <th>94864</th>\n",
       "      <th>94959</th>\n",
       "      <th>96079</th>\n",
       "      <th>96610</th>\n",
       "      <th>97304</th>\n",
       "      <th>97921</th>\n",
       "      <th>98809</th>\n",
       "      <th>99114</th>\n",
       "      <th>104841</th>\n",
       "      <th>109374</th>\n",
       "    </tr>\n",
       "    <tr>\n",
       "      <th>userId</th>\n",
       "      <th></th>\n",
       "      <th></th>\n",
       "      <th></th>\n",
       "      <th></th>\n",
       "      <th></th>\n",
       "      <th></th>\n",
       "      <th></th>\n",
       "      <th></th>\n",
       "      <th></th>\n",
       "      <th></th>\n",
       "      <th></th>\n",
       "      <th></th>\n",
       "      <th></th>\n",
       "      <th></th>\n",
       "      <th></th>\n",
       "      <th></th>\n",
       "      <th></th>\n",
       "      <th></th>\n",
       "      <th></th>\n",
       "      <th></th>\n",
       "      <th></th>\n",
       "    </tr>\n",
       "  </thead>\n",
       "  <tbody>\n",
       "    <tr>\n",
       "      <th>11</th>\n",
       "      <td>4.5</td>\n",
       "      <td>0.0</td>\n",
       "      <td>0.0</td>\n",
       "      <td>0.0</td>\n",
       "      <td>0.0</td>\n",
       "      <td>0.0</td>\n",
       "      <td>0.0</td>\n",
       "      <td>0.0</td>\n",
       "      <td>2.5</td>\n",
       "      <td>0.0</td>\n",
       "      <td>...</td>\n",
       "      <td>0.0</td>\n",
       "      <td>0.0</td>\n",
       "      <td>0.0</td>\n",
       "      <td>0.0</td>\n",
       "      <td>0.0</td>\n",
       "      <td>0.0</td>\n",
       "      <td>0.0</td>\n",
       "      <td>0.0</td>\n",
       "      <td>0.0</td>\n",
       "      <td>0.0</td>\n",
       "    </tr>\n",
       "    <tr>\n",
       "      <th>24</th>\n",
       "      <td>4.0</td>\n",
       "      <td>0.0</td>\n",
       "      <td>0.0</td>\n",
       "      <td>0.0</td>\n",
       "      <td>2.0</td>\n",
       "      <td>4.0</td>\n",
       "      <td>3.0</td>\n",
       "      <td>0.0</td>\n",
       "      <td>3.0</td>\n",
       "      <td>0.0</td>\n",
       "      <td>...</td>\n",
       "      <td>0.0</td>\n",
       "      <td>0.0</td>\n",
       "      <td>0.0</td>\n",
       "      <td>0.0</td>\n",
       "      <td>0.0</td>\n",
       "      <td>0.0</td>\n",
       "      <td>0.0</td>\n",
       "      <td>0.0</td>\n",
       "      <td>0.0</td>\n",
       "      <td>0.0</td>\n",
       "    </tr>\n",
       "    <tr>\n",
       "      <th>54</th>\n",
       "      <td>4.0</td>\n",
       "      <td>3.0</td>\n",
       "      <td>0.0</td>\n",
       "      <td>0.0</td>\n",
       "      <td>3.0</td>\n",
       "      <td>3.0</td>\n",
       "      <td>0.0</td>\n",
       "      <td>0.0</td>\n",
       "      <td>4.0</td>\n",
       "      <td>5.0</td>\n",
       "      <td>...</td>\n",
       "      <td>0.0</td>\n",
       "      <td>0.0</td>\n",
       "      <td>0.0</td>\n",
       "      <td>0.0</td>\n",
       "      <td>0.0</td>\n",
       "      <td>0.0</td>\n",
       "      <td>0.0</td>\n",
       "      <td>0.0</td>\n",
       "      <td>0.0</td>\n",
       "      <td>0.0</td>\n",
       "    </tr>\n",
       "    <tr>\n",
       "      <th>58</th>\n",
       "      <td>5.0</td>\n",
       "      <td>0.0</td>\n",
       "      <td>0.0</td>\n",
       "      <td>0.0</td>\n",
       "      <td>0.0</td>\n",
       "      <td>4.5</td>\n",
       "      <td>0.0</td>\n",
       "      <td>0.0</td>\n",
       "      <td>0.0</td>\n",
       "      <td>4.5</td>\n",
       "      <td>...</td>\n",
       "      <td>0.0</td>\n",
       "      <td>0.0</td>\n",
       "      <td>0.0</td>\n",
       "      <td>0.0</td>\n",
       "      <td>0.0</td>\n",
       "      <td>0.0</td>\n",
       "      <td>0.0</td>\n",
       "      <td>0.0</td>\n",
       "      <td>0.0</td>\n",
       "      <td>0.0</td>\n",
       "    </tr>\n",
       "    <tr>\n",
       "      <th>91</th>\n",
       "      <td>4.0</td>\n",
       "      <td>3.5</td>\n",
       "      <td>3.0</td>\n",
       "      <td>0.0</td>\n",
       "      <td>0.0</td>\n",
       "      <td>0.0</td>\n",
       "      <td>2.5</td>\n",
       "      <td>0.0</td>\n",
       "      <td>4.0</td>\n",
       "      <td>4.0</td>\n",
       "      <td>...</td>\n",
       "      <td>0.0</td>\n",
       "      <td>0.0</td>\n",
       "      <td>0.0</td>\n",
       "      <td>0.0</td>\n",
       "      <td>0.0</td>\n",
       "      <td>0.0</td>\n",
       "      <td>0.0</td>\n",
       "      <td>0.0</td>\n",
       "      <td>0.0</td>\n",
       "      <td>0.0</td>\n",
       "    </tr>\n",
       "    <tr>\n",
       "      <th>...</th>\n",
       "      <td>...</td>\n",
       "      <td>...</td>\n",
       "      <td>...</td>\n",
       "      <td>...</td>\n",
       "      <td>...</td>\n",
       "      <td>...</td>\n",
       "      <td>...</td>\n",
       "      <td>...</td>\n",
       "      <td>...</td>\n",
       "      <td>...</td>\n",
       "      <td>...</td>\n",
       "      <td>...</td>\n",
       "      <td>...</td>\n",
       "      <td>...</td>\n",
       "      <td>...</td>\n",
       "      <td>...</td>\n",
       "      <td>...</td>\n",
       "      <td>...</td>\n",
       "      <td>...</td>\n",
       "      <td>...</td>\n",
       "      <td>...</td>\n",
       "    </tr>\n",
       "    <tr>\n",
       "      <th>138404</th>\n",
       "      <td>5.0</td>\n",
       "      <td>2.5</td>\n",
       "      <td>0.0</td>\n",
       "      <td>0.0</td>\n",
       "      <td>0.0</td>\n",
       "      <td>0.0</td>\n",
       "      <td>3.5</td>\n",
       "      <td>0.0</td>\n",
       "      <td>0.0</td>\n",
       "      <td>0.0</td>\n",
       "      <td>...</td>\n",
       "      <td>0.0</td>\n",
       "      <td>0.0</td>\n",
       "      <td>0.0</td>\n",
       "      <td>0.0</td>\n",
       "      <td>0.0</td>\n",
       "      <td>0.0</td>\n",
       "      <td>0.0</td>\n",
       "      <td>0.0</td>\n",
       "      <td>0.0</td>\n",
       "      <td>0.0</td>\n",
       "    </tr>\n",
       "    <tr>\n",
       "      <th>138406</th>\n",
       "      <td>4.0</td>\n",
       "      <td>3.0</td>\n",
       "      <td>0.0</td>\n",
       "      <td>0.0</td>\n",
       "      <td>0.0</td>\n",
       "      <td>0.0</td>\n",
       "      <td>0.0</td>\n",
       "      <td>0.0</td>\n",
       "      <td>3.0</td>\n",
       "      <td>0.0</td>\n",
       "      <td>...</td>\n",
       "      <td>0.0</td>\n",
       "      <td>0.0</td>\n",
       "      <td>0.0</td>\n",
       "      <td>0.0</td>\n",
       "      <td>0.0</td>\n",
       "      <td>0.0</td>\n",
       "      <td>0.0</td>\n",
       "      <td>4.0</td>\n",
       "      <td>0.0</td>\n",
       "      <td>0.0</td>\n",
       "    </tr>\n",
       "    <tr>\n",
       "      <th>138411</th>\n",
       "      <td>5.0</td>\n",
       "      <td>0.0</td>\n",
       "      <td>0.0</td>\n",
       "      <td>0.0</td>\n",
       "      <td>0.0</td>\n",
       "      <td>5.0</td>\n",
       "      <td>0.0</td>\n",
       "      <td>0.0</td>\n",
       "      <td>3.5</td>\n",
       "      <td>2.5</td>\n",
       "      <td>...</td>\n",
       "      <td>0.0</td>\n",
       "      <td>0.0</td>\n",
       "      <td>0.0</td>\n",
       "      <td>0.0</td>\n",
       "      <td>0.0</td>\n",
       "      <td>0.0</td>\n",
       "      <td>0.0</td>\n",
       "      <td>0.0</td>\n",
       "      <td>0.0</td>\n",
       "      <td>0.0</td>\n",
       "    </tr>\n",
       "    <tr>\n",
       "      <th>138437</th>\n",
       "      <td>4.0</td>\n",
       "      <td>0.0</td>\n",
       "      <td>0.0</td>\n",
       "      <td>0.0</td>\n",
       "      <td>0.0</td>\n",
       "      <td>4.0</td>\n",
       "      <td>0.0</td>\n",
       "      <td>0.0</td>\n",
       "      <td>0.0</td>\n",
       "      <td>0.0</td>\n",
       "      <td>...</td>\n",
       "      <td>4.0</td>\n",
       "      <td>4.5</td>\n",
       "      <td>3.0</td>\n",
       "      <td>0.0</td>\n",
       "      <td>0.0</td>\n",
       "      <td>2.0</td>\n",
       "      <td>3.5</td>\n",
       "      <td>5.0</td>\n",
       "      <td>0.0</td>\n",
       "      <td>0.0</td>\n",
       "    </tr>\n",
       "    <tr>\n",
       "      <th>138474</th>\n",
       "      <td>5.0</td>\n",
       "      <td>4.0</td>\n",
       "      <td>0.0</td>\n",
       "      <td>0.0</td>\n",
       "      <td>4.0</td>\n",
       "      <td>5.0</td>\n",
       "      <td>0.0</td>\n",
       "      <td>4.0</td>\n",
       "      <td>4.0</td>\n",
       "      <td>0.0</td>\n",
       "      <td>...</td>\n",
       "      <td>0.0</td>\n",
       "      <td>0.0</td>\n",
       "      <td>0.0</td>\n",
       "      <td>0.0</td>\n",
       "      <td>0.0</td>\n",
       "      <td>0.0</td>\n",
       "      <td>0.0</td>\n",
       "      <td>0.0</td>\n",
       "      <td>0.0</td>\n",
       "      <td>0.0</td>\n",
       "    </tr>\n",
       "  </tbody>\n",
       "</table>\n",
       "<p>10000 rows × 2000 columns</p>\n",
       "</div>"
      ],
      "text/plain": [
       "movieId  1       2       3       4       5       6       7       9       \\\n",
       "userId                                                                    \n",
       "11          4.5     0.0     0.0     0.0     0.0     0.0     0.0     0.0   \n",
       "24          4.0     0.0     0.0     0.0     2.0     4.0     3.0     0.0   \n",
       "54          4.0     3.0     0.0     0.0     3.0     3.0     0.0     0.0   \n",
       "58          5.0     0.0     0.0     0.0     0.0     4.5     0.0     0.0   \n",
       "91          4.0     3.5     3.0     0.0     0.0     0.0     2.5     0.0   \n",
       "...         ...     ...     ...     ...     ...     ...     ...     ...   \n",
       "138404      5.0     2.5     0.0     0.0     0.0     0.0     3.5     0.0   \n",
       "138406      4.0     3.0     0.0     0.0     0.0     0.0     0.0     0.0   \n",
       "138411      5.0     0.0     0.0     0.0     0.0     5.0     0.0     0.0   \n",
       "138437      4.0     0.0     0.0     0.0     0.0     4.0     0.0     0.0   \n",
       "138474      5.0     4.0     0.0     0.0     4.0     5.0     0.0     4.0   \n",
       "\n",
       "movieId  10      11      ...  94864   94959   96079   96610   97304   97921   \\\n",
       "userId                   ...                                                   \n",
       "11          2.5     0.0  ...     0.0     0.0     0.0     0.0     0.0     0.0   \n",
       "24          3.0     0.0  ...     0.0     0.0     0.0     0.0     0.0     0.0   \n",
       "54          4.0     5.0  ...     0.0     0.0     0.0     0.0     0.0     0.0   \n",
       "58          0.0     4.5  ...     0.0     0.0     0.0     0.0     0.0     0.0   \n",
       "91          4.0     4.0  ...     0.0     0.0     0.0     0.0     0.0     0.0   \n",
       "...         ...     ...  ...     ...     ...     ...     ...     ...     ...   \n",
       "138404      0.0     0.0  ...     0.0     0.0     0.0     0.0     0.0     0.0   \n",
       "138406      3.0     0.0  ...     0.0     0.0     0.0     0.0     0.0     0.0   \n",
       "138411      3.5     2.5  ...     0.0     0.0     0.0     0.0     0.0     0.0   \n",
       "138437      0.0     0.0  ...     4.0     4.5     3.0     0.0     0.0     2.0   \n",
       "138474      4.0     0.0  ...     0.0     0.0     0.0     0.0     0.0     0.0   \n",
       "\n",
       "movieId  98809   99114   104841  109374  \n",
       "userId                                   \n",
       "11          0.0     0.0     0.0     0.0  \n",
       "24          0.0     0.0     0.0     0.0  \n",
       "54          0.0     0.0     0.0     0.0  \n",
       "58          0.0     0.0     0.0     0.0  \n",
       "91          0.0     0.0     0.0     0.0  \n",
       "...         ...     ...     ...     ...  \n",
       "138404      0.0     0.0     0.0     0.0  \n",
       "138406      0.0     4.0     0.0     0.0  \n",
       "138411      0.0     0.0     0.0     0.0  \n",
       "138437      3.5     5.0     0.0     0.0  \n",
       "138474      0.0     0.0     0.0     0.0  \n",
       "\n",
       "[10000 rows x 2000 columns]"
      ]
     },
     "execution_count": 68,
     "metadata": {},
     "output_type": "execute_result"
    }
   ],
   "source": [
    "user_item_matrix"
   ]
  },
  {
   "cell_type": "code",
   "execution_count": 70,
   "id": "19ff68f9-73cb-4906-9f8f-5e2993787e4a",
   "metadata": {},
   "outputs": [],
   "source": [
    "from scipy.sparse import csr_matrix\n",
    "import numpy as np\n",
    "dense= np.array([[3, 0, 1],\n",
    "                        [0, 2, 0],\n",
    "                        [1, 0, 0]])"
   ]
  },
  {
   "cell_type": "code",
   "execution_count": 72,
   "id": "b5f86960-c828-4b73-92bb-ec1ee5b534f0",
   "metadata": {},
   "outputs": [],
   "source": [
    "//sparse_matrix = csr_matrix(dense)"
   ]
  },
  {
   "cell_type": "code",
   "execution_count": 73,
   "id": "c9789b85-6109-437c-963d-869faa987f5d",
   "metadata": {},
   "outputs": [
    {
     "name": "stdout",
     "output_type": "stream",
     "text": [
      "  (0, 0)\t3\n",
      "  (0, 2)\t1\n",
      "  (1, 1)\t2\n",
      "  (2, 0)\t1\n"
     ]
    }
   ],
   "source": [
    "//print(sparse_matrix)"
   ]
  },
  {
   "cell_type": "code",
   "execution_count": 75,
   "id": "07791782-a081-48a1-a575-8d4247de7cee",
   "metadata": {},
   "outputs": [
    {
     "data": {
      "text/plain": [
       "array([3, 1, 2, 1], dtype=int32)"
      ]
     },
     "execution_count": 75,
     "metadata": {},
     "output_type": "execute_result"
    }
   ],
   "source": [
    "//sparse_matrix.data"
   ]
  },
  {
   "cell_type": "code",
   "execution_count": 76,
   "id": "c908f7b0-d35a-455c-b567-368230abde0f",
   "metadata": {},
   "outputs": [
    {
     "data": {
      "text/plain": [
       "array([0, 2, 1, 0])"
      ]
     },
     "execution_count": 76,
     "metadata": {},
     "output_type": "execute_result"
    }
   ],
   "source": [
    "//sparse_matrix.indices"
   ]
  },
  {
   "cell_type": "code",
   "execution_count": 78,
   "id": "9434f8b6-712f-45e5-82cd-de9ee6d4c221",
   "metadata": {},
   "outputs": [],
   "source": [
    "user_sparse_matrix=csr_matrix(user_item_matrix)"
   ]
  },
  {
   "cell_type": "code",
   "execution_count": 80,
   "id": "7b0b4f54-2879-4c1b-827b-0e4a4af0b98a",
   "metadata": {},
   "outputs": [
    {
     "data": {
      "text/plain": [
       "array([4.5, 2.5, 3.5, ..., 4. , 4. , 4. ])"
      ]
     },
     "execution_count": 80,
     "metadata": {},
     "output_type": "execute_result"
    }
   ],
   "source": [
    "user_sparse_matrix.data"
   ]
  },
  {
   "cell_type": "code",
   "execution_count": 81,
   "id": "b36ea7e8-2f84-4071-ac28-1a3b62aacd5d",
   "metadata": {},
   "outputs": [],
   "source": [
    "from sklearn.metrics.pairwise import cosine_similarity"
   ]
  },
  {
   "cell_type": "code",
   "execution_count": 83,
   "id": "00af8cea-6eea-4d9c-be83-6e8207d588cd",
   "metadata": {},
   "outputs": [
    {
     "data": {
      "text/plain": [
       "array([[1.       , 0.       , 0.9486833],\n",
       "       [0.       , 1.       , 0.       ],\n",
       "       [0.9486833, 0.       , 1.       ]])"
      ]
     },
     "execution_count": 83,
     "metadata": {},
     "output_type": "execute_result"
    }
   ],
   "source": [
    "//cosine_similarity(sparse_matrix)"
   ]
  },
  {
   "cell_type": "code",
   "execution_count": 84,
   "id": "05907529-84ec-423c-a515-cf26ec14af13",
   "metadata": {},
   "outputs": [],
   "source": [
    "user_similarity = cosine_similarity(user_sparse_matrix)"
   ]
  },
  {
   "cell_type": "code",
   "execution_count": 85,
   "id": "ef94e131-15c3-4709-a733-67b3f2c3bb07",
   "metadata": {},
   "outputs": [
    {
     "data": {
      "text/plain": [
       "array([[1.        , 0.29189245, 0.26188941, ..., 0.34203906, 0.3964235 ,\n",
       "        0.29606322],\n",
       "       [0.29189245, 1.        , 0.40336767, ..., 0.46164074, 0.30746018,\n",
       "        0.42102255],\n",
       "       [0.26188941, 0.40336767, 1.        , ..., 0.53240504, 0.27737079,\n",
       "        0.45874439],\n",
       "       ...,\n",
       "       [0.34203906, 0.46164074, 0.53240504, ..., 1.        , 0.40566925,\n",
       "        0.43230498],\n",
       "       [0.3964235 , 0.30746018, 0.27737079, ..., 0.40566925, 1.        ,\n",
       "        0.25156578],\n",
       "       [0.29606322, 0.42102255, 0.45874439, ..., 0.43230498, 0.25156578,\n",
       "        1.        ]])"
      ]
     },
     "execution_count": 85,
     "metadata": {},
     "output_type": "execute_result"
    }
   ],
   "source": [
    "user_similarity"
   ]
  },
  {
   "cell_type": "code",
   "execution_count": 86,
   "id": "478a3d6b-3fee-4498-8714-eb603d7c3d9b",
   "metadata": {},
   "outputs": [],
   "source": [
    "user_similarity_df = pd.DataFrame(user_similarity, index=user_item_matrix.index, columns=user_item_matrix.index)"
   ]
  },
  {
   "cell_type": "code",
   "execution_count": 87,
   "id": "8e800b3c-3f19-4449-a7df-abd4438238d7",
   "metadata": {},
   "outputs": [
    {
     "data": {
      "text/html": [
       "<div>\n",
       "<style scoped>\n",
       "    .dataframe tbody tr th:only-of-type {\n",
       "        vertical-align: middle;\n",
       "    }\n",
       "\n",
       "    .dataframe tbody tr th {\n",
       "        vertical-align: top;\n",
       "    }\n",
       "\n",
       "    .dataframe thead th {\n",
       "        text-align: right;\n",
       "    }\n",
       "</style>\n",
       "<table border=\"1\" class=\"dataframe\">\n",
       "  <thead>\n",
       "    <tr style=\"text-align: right;\">\n",
       "      <th>userId</th>\n",
       "      <th>11</th>\n",
       "      <th>24</th>\n",
       "      <th>54</th>\n",
       "      <th>58</th>\n",
       "      <th>91</th>\n",
       "      <th>96</th>\n",
       "      <th>104</th>\n",
       "      <th>116</th>\n",
       "      <th>131</th>\n",
       "      <th>134</th>\n",
       "      <th>...</th>\n",
       "      <th>138317</th>\n",
       "      <th>138325</th>\n",
       "      <th>138335</th>\n",
       "      <th>138382</th>\n",
       "      <th>138397</th>\n",
       "      <th>138404</th>\n",
       "      <th>138406</th>\n",
       "      <th>138411</th>\n",
       "      <th>138437</th>\n",
       "      <th>138474</th>\n",
       "    </tr>\n",
       "    <tr>\n",
       "      <th>userId</th>\n",
       "      <th></th>\n",
       "      <th></th>\n",
       "      <th></th>\n",
       "      <th></th>\n",
       "      <th></th>\n",
       "      <th></th>\n",
       "      <th></th>\n",
       "      <th></th>\n",
       "      <th></th>\n",
       "      <th></th>\n",
       "      <th></th>\n",
       "      <th></th>\n",
       "      <th></th>\n",
       "      <th></th>\n",
       "      <th></th>\n",
       "      <th></th>\n",
       "      <th></th>\n",
       "      <th></th>\n",
       "      <th></th>\n",
       "      <th></th>\n",
       "      <th></th>\n",
       "    </tr>\n",
       "  </thead>\n",
       "  <tbody>\n",
       "    <tr>\n",
       "      <th>11</th>\n",
       "      <td>1.000000</td>\n",
       "      <td>0.291892</td>\n",
       "      <td>0.261889</td>\n",
       "      <td>0.258913</td>\n",
       "      <td>0.360217</td>\n",
       "      <td>0.367863</td>\n",
       "      <td>0.125795</td>\n",
       "      <td>0.410097</td>\n",
       "      <td>0.283516</td>\n",
       "      <td>0.233291</td>\n",
       "      <td>...</td>\n",
       "      <td>0.328037</td>\n",
       "      <td>0.350255</td>\n",
       "      <td>0.389796</td>\n",
       "      <td>0.285684</td>\n",
       "      <td>0.347393</td>\n",
       "      <td>0.368333</td>\n",
       "      <td>0.385079</td>\n",
       "      <td>0.342039</td>\n",
       "      <td>0.396424</td>\n",
       "      <td>0.296063</td>\n",
       "    </tr>\n",
       "    <tr>\n",
       "      <th>24</th>\n",
       "      <td>0.291892</td>\n",
       "      <td>1.000000</td>\n",
       "      <td>0.403368</td>\n",
       "      <td>0.428518</td>\n",
       "      <td>0.436741</td>\n",
       "      <td>0.207886</td>\n",
       "      <td>0.211470</td>\n",
       "      <td>0.470294</td>\n",
       "      <td>0.389324</td>\n",
       "      <td>0.410071</td>\n",
       "      <td>...</td>\n",
       "      <td>0.357506</td>\n",
       "      <td>0.296583</td>\n",
       "      <td>0.354368</td>\n",
       "      <td>0.389830</td>\n",
       "      <td>0.375894</td>\n",
       "      <td>0.366922</td>\n",
       "      <td>0.336632</td>\n",
       "      <td>0.461641</td>\n",
       "      <td>0.307460</td>\n",
       "      <td>0.421023</td>\n",
       "    </tr>\n",
       "    <tr>\n",
       "      <th>54</th>\n",
       "      <td>0.261889</td>\n",
       "      <td>0.403368</td>\n",
       "      <td>1.000000</td>\n",
       "      <td>0.494109</td>\n",
       "      <td>0.446516</td>\n",
       "      <td>0.180027</td>\n",
       "      <td>0.368389</td>\n",
       "      <td>0.429314</td>\n",
       "      <td>0.279990</td>\n",
       "      <td>0.512862</td>\n",
       "      <td>...</td>\n",
       "      <td>0.461191</td>\n",
       "      <td>0.373956</td>\n",
       "      <td>0.400867</td>\n",
       "      <td>0.555402</td>\n",
       "      <td>0.492891</td>\n",
       "      <td>0.391536</td>\n",
       "      <td>0.338110</td>\n",
       "      <td>0.532405</td>\n",
       "      <td>0.277371</td>\n",
       "      <td>0.458744</td>\n",
       "    </tr>\n",
       "    <tr>\n",
       "      <th>58</th>\n",
       "      <td>0.258913</td>\n",
       "      <td>0.428518</td>\n",
       "      <td>0.494109</td>\n",
       "      <td>1.000000</td>\n",
       "      <td>0.498920</td>\n",
       "      <td>0.253232</td>\n",
       "      <td>0.461977</td>\n",
       "      <td>0.403692</td>\n",
       "      <td>0.304467</td>\n",
       "      <td>0.483256</td>\n",
       "      <td>...</td>\n",
       "      <td>0.384678</td>\n",
       "      <td>0.514230</td>\n",
       "      <td>0.385910</td>\n",
       "      <td>0.426473</td>\n",
       "      <td>0.454400</td>\n",
       "      <td>0.398940</td>\n",
       "      <td>0.423353</td>\n",
       "      <td>0.527047</td>\n",
       "      <td>0.374421</td>\n",
       "      <td>0.314794</td>\n",
       "    </tr>\n",
       "    <tr>\n",
       "      <th>91</th>\n",
       "      <td>0.360217</td>\n",
       "      <td>0.436741</td>\n",
       "      <td>0.446516</td>\n",
       "      <td>0.498920</td>\n",
       "      <td>1.000000</td>\n",
       "      <td>0.339539</td>\n",
       "      <td>0.385129</td>\n",
       "      <td>0.504881</td>\n",
       "      <td>0.351757</td>\n",
       "      <td>0.416871</td>\n",
       "      <td>...</td>\n",
       "      <td>0.408009</td>\n",
       "      <td>0.500245</td>\n",
       "      <td>0.455908</td>\n",
       "      <td>0.403572</td>\n",
       "      <td>0.491628</td>\n",
       "      <td>0.494465</td>\n",
       "      <td>0.447297</td>\n",
       "      <td>0.555097</td>\n",
       "      <td>0.420024</td>\n",
       "      <td>0.440290</td>\n",
       "    </tr>\n",
       "    <tr>\n",
       "      <th>...</th>\n",
       "      <td>...</td>\n",
       "      <td>...</td>\n",
       "      <td>...</td>\n",
       "      <td>...</td>\n",
       "      <td>...</td>\n",
       "      <td>...</td>\n",
       "      <td>...</td>\n",
       "      <td>...</td>\n",
       "      <td>...</td>\n",
       "      <td>...</td>\n",
       "      <td>...</td>\n",
       "      <td>...</td>\n",
       "      <td>...</td>\n",
       "      <td>...</td>\n",
       "      <td>...</td>\n",
       "      <td>...</td>\n",
       "      <td>...</td>\n",
       "      <td>...</td>\n",
       "      <td>...</td>\n",
       "      <td>...</td>\n",
       "      <td>...</td>\n",
       "    </tr>\n",
       "    <tr>\n",
       "      <th>138404</th>\n",
       "      <td>0.368333</td>\n",
       "      <td>0.366922</td>\n",
       "      <td>0.391536</td>\n",
       "      <td>0.398940</td>\n",
       "      <td>0.494465</td>\n",
       "      <td>0.305851</td>\n",
       "      <td>0.232880</td>\n",
       "      <td>0.419351</td>\n",
       "      <td>0.338768</td>\n",
       "      <td>0.320819</td>\n",
       "      <td>...</td>\n",
       "      <td>0.384626</td>\n",
       "      <td>0.367575</td>\n",
       "      <td>0.375714</td>\n",
       "      <td>0.368177</td>\n",
       "      <td>0.384053</td>\n",
       "      <td>1.000000</td>\n",
       "      <td>0.380610</td>\n",
       "      <td>0.432807</td>\n",
       "      <td>0.323762</td>\n",
       "      <td>0.363020</td>\n",
       "    </tr>\n",
       "    <tr>\n",
       "      <th>138406</th>\n",
       "      <td>0.385079</td>\n",
       "      <td>0.336632</td>\n",
       "      <td>0.338110</td>\n",
       "      <td>0.423353</td>\n",
       "      <td>0.447297</td>\n",
       "      <td>0.372146</td>\n",
       "      <td>0.333261</td>\n",
       "      <td>0.400110</td>\n",
       "      <td>0.290812</td>\n",
       "      <td>0.328334</td>\n",
       "      <td>...</td>\n",
       "      <td>0.355343</td>\n",
       "      <td>0.553462</td>\n",
       "      <td>0.359680</td>\n",
       "      <td>0.305338</td>\n",
       "      <td>0.376250</td>\n",
       "      <td>0.380610</td>\n",
       "      <td>1.000000</td>\n",
       "      <td>0.398200</td>\n",
       "      <td>0.430615</td>\n",
       "      <td>0.317979</td>\n",
       "    </tr>\n",
       "    <tr>\n",
       "      <th>138411</th>\n",
       "      <td>0.342039</td>\n",
       "      <td>0.461641</td>\n",
       "      <td>0.532405</td>\n",
       "      <td>0.527047</td>\n",
       "      <td>0.555097</td>\n",
       "      <td>0.316476</td>\n",
       "      <td>0.333862</td>\n",
       "      <td>0.527909</td>\n",
       "      <td>0.341314</td>\n",
       "      <td>0.444927</td>\n",
       "      <td>...</td>\n",
       "      <td>0.439663</td>\n",
       "      <td>0.456770</td>\n",
       "      <td>0.496380</td>\n",
       "      <td>0.445997</td>\n",
       "      <td>0.536877</td>\n",
       "      <td>0.432807</td>\n",
       "      <td>0.398200</td>\n",
       "      <td>1.000000</td>\n",
       "      <td>0.405669</td>\n",
       "      <td>0.432305</td>\n",
       "    </tr>\n",
       "    <tr>\n",
       "      <th>138437</th>\n",
       "      <td>0.396424</td>\n",
       "      <td>0.307460</td>\n",
       "      <td>0.277371</td>\n",
       "      <td>0.374421</td>\n",
       "      <td>0.420024</td>\n",
       "      <td>0.522889</td>\n",
       "      <td>0.251825</td>\n",
       "      <td>0.429781</td>\n",
       "      <td>0.280229</td>\n",
       "      <td>0.284721</td>\n",
       "      <td>...</td>\n",
       "      <td>0.295411</td>\n",
       "      <td>0.539407</td>\n",
       "      <td>0.363838</td>\n",
       "      <td>0.233010</td>\n",
       "      <td>0.328103</td>\n",
       "      <td>0.323762</td>\n",
       "      <td>0.430615</td>\n",
       "      <td>0.405669</td>\n",
       "      <td>1.000000</td>\n",
       "      <td>0.251566</td>\n",
       "    </tr>\n",
       "    <tr>\n",
       "      <th>138474</th>\n",
       "      <td>0.296063</td>\n",
       "      <td>0.421023</td>\n",
       "      <td>0.458744</td>\n",
       "      <td>0.314794</td>\n",
       "      <td>0.440290</td>\n",
       "      <td>0.220106</td>\n",
       "      <td>0.241659</td>\n",
       "      <td>0.483055</td>\n",
       "      <td>0.309699</td>\n",
       "      <td>0.355046</td>\n",
       "      <td>...</td>\n",
       "      <td>0.368621</td>\n",
       "      <td>0.292151</td>\n",
       "      <td>0.439707</td>\n",
       "      <td>0.462298</td>\n",
       "      <td>0.358272</td>\n",
       "      <td>0.363020</td>\n",
       "      <td>0.317979</td>\n",
       "      <td>0.432305</td>\n",
       "      <td>0.251566</td>\n",
       "      <td>1.000000</td>\n",
       "    </tr>\n",
       "  </tbody>\n",
       "</table>\n",
       "<p>10000 rows × 10000 columns</p>\n",
       "</div>"
      ],
      "text/plain": [
       "userId    11        24        54        58        91        96        104     \\\n",
       "userId                                                                         \n",
       "11      1.000000  0.291892  0.261889  0.258913  0.360217  0.367863  0.125795   \n",
       "24      0.291892  1.000000  0.403368  0.428518  0.436741  0.207886  0.211470   \n",
       "54      0.261889  0.403368  1.000000  0.494109  0.446516  0.180027  0.368389   \n",
       "58      0.258913  0.428518  0.494109  1.000000  0.498920  0.253232  0.461977   \n",
       "91      0.360217  0.436741  0.446516  0.498920  1.000000  0.339539  0.385129   \n",
       "...          ...       ...       ...       ...       ...       ...       ...   \n",
       "138404  0.368333  0.366922  0.391536  0.398940  0.494465  0.305851  0.232880   \n",
       "138406  0.385079  0.336632  0.338110  0.423353  0.447297  0.372146  0.333261   \n",
       "138411  0.342039  0.461641  0.532405  0.527047  0.555097  0.316476  0.333862   \n",
       "138437  0.396424  0.307460  0.277371  0.374421  0.420024  0.522889  0.251825   \n",
       "138474  0.296063  0.421023  0.458744  0.314794  0.440290  0.220106  0.241659   \n",
       "\n",
       "userId    116       131       134     ...    138317    138325    138335  \\\n",
       "userId                                ...                                 \n",
       "11      0.410097  0.283516  0.233291  ...  0.328037  0.350255  0.389796   \n",
       "24      0.470294  0.389324  0.410071  ...  0.357506  0.296583  0.354368   \n",
       "54      0.429314  0.279990  0.512862  ...  0.461191  0.373956  0.400867   \n",
       "58      0.403692  0.304467  0.483256  ...  0.384678  0.514230  0.385910   \n",
       "91      0.504881  0.351757  0.416871  ...  0.408009  0.500245  0.455908   \n",
       "...          ...       ...       ...  ...       ...       ...       ...   \n",
       "138404  0.419351  0.338768  0.320819  ...  0.384626  0.367575  0.375714   \n",
       "138406  0.400110  0.290812  0.328334  ...  0.355343  0.553462  0.359680   \n",
       "138411  0.527909  0.341314  0.444927  ...  0.439663  0.456770  0.496380   \n",
       "138437  0.429781  0.280229  0.284721  ...  0.295411  0.539407  0.363838   \n",
       "138474  0.483055  0.309699  0.355046  ...  0.368621  0.292151  0.439707   \n",
       "\n",
       "userId    138382    138397    138404    138406    138411    138437    138474  \n",
       "userId                                                                        \n",
       "11      0.285684  0.347393  0.368333  0.385079  0.342039  0.396424  0.296063  \n",
       "24      0.389830  0.375894  0.366922  0.336632  0.461641  0.307460  0.421023  \n",
       "54      0.555402  0.492891  0.391536  0.338110  0.532405  0.277371  0.458744  \n",
       "58      0.426473  0.454400  0.398940  0.423353  0.527047  0.374421  0.314794  \n",
       "91      0.403572  0.491628  0.494465  0.447297  0.555097  0.420024  0.440290  \n",
       "...          ...       ...       ...       ...       ...       ...       ...  \n",
       "138404  0.368177  0.384053  1.000000  0.380610  0.432807  0.323762  0.363020  \n",
       "138406  0.305338  0.376250  0.380610  1.000000  0.398200  0.430615  0.317979  \n",
       "138411  0.445997  0.536877  0.432807  0.398200  1.000000  0.405669  0.432305  \n",
       "138437  0.233010  0.328103  0.323762  0.430615  0.405669  1.000000  0.251566  \n",
       "138474  0.462298  0.358272  0.363020  0.317979  0.432305  0.251566  1.000000  \n",
       "\n",
       "[10000 rows x 10000 columns]"
      ]
     },
     "execution_count": 87,
     "metadata": {},
     "output_type": "execute_result"
    }
   ],
   "source": [
    "user_similarity_df"
   ]
  },
  {
   "cell_type": "code",
   "execution_count": 90,
   "id": "51439b03-b41e-4212-9c38-f216115ec768",
   "metadata": {},
   "outputs": [],
   "source": [
    "user_item_matrix=user_item_matrix.replace(0,np.nan)"
   ]
  },
  {
   "cell_type": "code",
   "execution_count": 93,
   "id": "34ea0cb3-834a-4cfd-865e-c410133acdc5",
   "metadata": {},
   "outputs": [],
   "source": [
    "user_item_mean=user_item_matrix.mean(axis=1)"
   ]
  },
  {
   "cell_type": "code",
   "execution_count": 94,
   "id": "937dc15f-ae30-4db3-aa10-c72c520d3947",
   "metadata": {},
   "outputs": [
    {
     "data": {
      "text/plain": [
       "userId\n",
       "11        4.169591\n",
       "24        3.434884\n",
       "54        3.500000\n",
       "58        4.141766\n",
       "91        3.422598\n",
       "            ...   \n",
       "138404    3.984456\n",
       "138406    3.726974\n",
       "138411    3.649140\n",
       "138437    3.806273\n",
       "138474    4.329218\n",
       "Length: 10000, dtype: float64"
      ]
     },
     "execution_count": 94,
     "metadata": {},
     "output_type": "execute_result"
    }
   ],
   "source": [
    "user_item_mean"
   ]
  },
  {
   "cell_type": "code",
   "execution_count": 96,
   "id": "fec4791f-911c-4ee4-a03f-17bec57e52cc",
   "metadata": {},
   "outputs": [
    {
     "name": "stdout",
     "output_type": "stream",
     "text": [
      "<class 'pandas.core.frame.DataFrame'>\n",
      "Index: 10000 entries, 11 to 138474\n",
      "Columns: 10000 entries, 11 to 138474\n",
      "dtypes: float64(10000)\n",
      "memory usage: 763.3 MB\n"
     ]
    }
   ],
   "source": [
    "user_similarity_df.info()\n",
    "    "
   ]
  },
  {
   "cell_type": "code",
   "execution_count": 160,
   "id": "0111a4ab-ad1e-49eb-8627-b51e56bced06",
   "metadata": {},
   "outputs": [],
   "source": [
    "def similar_users(user_id,num_users=5):\n",
    "     user_id = user_similarity_df[user_id]\n",
    "     similar_users=user_id.sort_values(ascending=False)[1:num_users+1].index\n",
    "     return similar_users\n",
    "    "
   ]
  },
  {
   "cell_type": "code",
   "execution_count": 161,
   "id": "7282b43c-834d-4ad4-ab3f-6ef62d8a99d4",
   "metadata": {},
   "outputs": [
    {
     "data": {
      "text/plain": [
       "Index([61767, 8979, 108355, 70143, 57830], dtype='int64', name='userId')"
      ]
     },
     "execution_count": 161,
     "metadata": {},
     "output_type": "execute_result"
    }
   ],
   "source": [
    "similar_users(11)"
   ]
  },
  {
   "cell_type": "code",
   "execution_count": 162,
   "id": "752d2960-9719-4cb9-971e-2fbdc63d9e20",
   "metadata": {},
   "outputs": [
    {
     "data": {
      "text/plain": [
       "userId\n",
       "11        1.000000\n",
       "24        0.291892\n",
       "54        0.261889\n",
       "58        0.258913\n",
       "91        0.360217\n",
       "            ...   \n",
       "138404    0.368333\n",
       "138406    0.385079\n",
       "138411    0.342039\n",
       "138437    0.396424\n",
       "138474    0.296063\n",
       "Name: 11, Length: 10000, dtype: float64"
      ]
     },
     "execution_count": 162,
     "metadata": {},
     "output_type": "execute_result"
    }
   ],
   "source": [
    "user_similarity_df[11]"
   ]
  },
  {
   "cell_type": "code",
   "execution_count": 163,
   "id": "e45e79c8-6335-45e1-be66-3505058e15f9",
   "metadata": {},
   "outputs": [
    {
     "data": {
      "text/plain": [
       "userId\n",
       "11        0.547164\n",
       "24        0.369160\n",
       "54        0.372533\n",
       "58        0.382414\n",
       "91        0.453210\n",
       "            ...   \n",
       "138404    0.402135\n",
       "138406    0.422884\n",
       "138411    0.449023\n",
       "138437    0.421070\n",
       "138474    0.316294\n",
       "Name: 8979, Length: 10000, dtype: float64"
      ]
     },
     "execution_count": 163,
     "metadata": {},
     "output_type": "execute_result"
    }
   ],
   "source": [
    "user_similarity_df[8979]"
   ]
  },
  {
   "cell_type": "code",
   "execution_count": 164,
   "id": "aad29bb8-32ce-4c21-95d3-bd799258a9cd",
   "metadata": {},
   "outputs": [
    {
     "data": {
      "text/plain": [
       "Index([61767, 8979, 108355, 70143, 57830], dtype='int64', name='userId')"
      ]
     },
     "execution_count": 164,
     "metadata": {},
     "output_type": "execute_result"
    }
   ],
   "source": [
    "similar_users(11)"
   ]
  },
  {
   "cell_type": "code",
   "execution_count": 177,
   "id": "db595373-2a17-462e-96f2-76f27524e93d",
   "metadata": {},
   "outputs": [],
   "source": [
    "def predict_rating(user_Id,movie_Id):\n",
    "    similarity=similar_users(user_Id)\n",
    "    numerator=0\n",
    "    denominator=0\n",
    "    for similar_user in similarity:\n",
    "         if user_item_matrix.loc[similar_user, movie_Id] > 0:### If the user has reviewed the movie \n",
    "             deviation=user_item_matrix.loc[similar_user,movie_Id]-user_item_mean[similar_user]\n",
    "             weight=user_similarity_df.loc[user_Id,similar_user]\n",
    "             numerator=numerator+(weight*deviation)\n",
    "             denominator=denominator+abs(weight)\n",
    "    if(denominator==0):\n",
    "        return user_item_mean[user_Id]\n",
    "    else:\n",
    "        predicted_rating = user_item_mean[user_Id] + (numerator / denominator)\n",
    "    \n",
    "        \n",
    "        predicted_rating = min(max(predicted_rating, 1), 5)\n",
    "        return predicted_rating     \n",
    "             "
   ]
  },
  {
   "cell_type": "code",
   "execution_count": 178,
   "id": "53835ac0-ce65-4011-943b-8454c355636a",
   "metadata": {},
   "outputs": [
    {
     "data": {
      "text/html": [
       "<div>\n",
       "<style scoped>\n",
       "    .dataframe tbody tr th:only-of-type {\n",
       "        vertical-align: middle;\n",
       "    }\n",
       "\n",
       "    .dataframe tbody tr th {\n",
       "        vertical-align: top;\n",
       "    }\n",
       "\n",
       "    .dataframe thead th {\n",
       "        text-align: right;\n",
       "    }\n",
       "</style>\n",
       "<table border=\"1\" class=\"dataframe\">\n",
       "  <thead>\n",
       "    <tr style=\"text-align: right;\">\n",
       "      <th>movieId</th>\n",
       "      <th>1</th>\n",
       "      <th>2</th>\n",
       "      <th>3</th>\n",
       "      <th>4</th>\n",
       "      <th>5</th>\n",
       "      <th>6</th>\n",
       "      <th>7</th>\n",
       "      <th>9</th>\n",
       "      <th>10</th>\n",
       "      <th>11</th>\n",
       "      <th>...</th>\n",
       "      <th>94864</th>\n",
       "      <th>94959</th>\n",
       "      <th>96079</th>\n",
       "      <th>96610</th>\n",
       "      <th>97304</th>\n",
       "      <th>97921</th>\n",
       "      <th>98809</th>\n",
       "      <th>99114</th>\n",
       "      <th>104841</th>\n",
       "      <th>109374</th>\n",
       "    </tr>\n",
       "    <tr>\n",
       "      <th>userId</th>\n",
       "      <th></th>\n",
       "      <th></th>\n",
       "      <th></th>\n",
       "      <th></th>\n",
       "      <th></th>\n",
       "      <th></th>\n",
       "      <th></th>\n",
       "      <th></th>\n",
       "      <th></th>\n",
       "      <th></th>\n",
       "      <th></th>\n",
       "      <th></th>\n",
       "      <th></th>\n",
       "      <th></th>\n",
       "      <th></th>\n",
       "      <th></th>\n",
       "      <th></th>\n",
       "      <th></th>\n",
       "      <th></th>\n",
       "      <th></th>\n",
       "      <th></th>\n",
       "    </tr>\n",
       "  </thead>\n",
       "  <tbody>\n",
       "    <tr>\n",
       "      <th>11</th>\n",
       "      <td>4.5</td>\n",
       "      <td>NaN</td>\n",
       "      <td>NaN</td>\n",
       "      <td>NaN</td>\n",
       "      <td>NaN</td>\n",
       "      <td>NaN</td>\n",
       "      <td>NaN</td>\n",
       "      <td>NaN</td>\n",
       "      <td>2.5</td>\n",
       "      <td>NaN</td>\n",
       "      <td>...</td>\n",
       "      <td>NaN</td>\n",
       "      <td>NaN</td>\n",
       "      <td>NaN</td>\n",
       "      <td>NaN</td>\n",
       "      <td>NaN</td>\n",
       "      <td>NaN</td>\n",
       "      <td>NaN</td>\n",
       "      <td>NaN</td>\n",
       "      <td>NaN</td>\n",
       "      <td>NaN</td>\n",
       "    </tr>\n",
       "    <tr>\n",
       "      <th>24</th>\n",
       "      <td>4.0</td>\n",
       "      <td>NaN</td>\n",
       "      <td>NaN</td>\n",
       "      <td>NaN</td>\n",
       "      <td>2.0</td>\n",
       "      <td>4.0</td>\n",
       "      <td>3.0</td>\n",
       "      <td>NaN</td>\n",
       "      <td>3.0</td>\n",
       "      <td>NaN</td>\n",
       "      <td>...</td>\n",
       "      <td>NaN</td>\n",
       "      <td>NaN</td>\n",
       "      <td>NaN</td>\n",
       "      <td>NaN</td>\n",
       "      <td>NaN</td>\n",
       "      <td>NaN</td>\n",
       "      <td>NaN</td>\n",
       "      <td>NaN</td>\n",
       "      <td>NaN</td>\n",
       "      <td>NaN</td>\n",
       "    </tr>\n",
       "    <tr>\n",
       "      <th>54</th>\n",
       "      <td>4.0</td>\n",
       "      <td>3.0</td>\n",
       "      <td>NaN</td>\n",
       "      <td>NaN</td>\n",
       "      <td>3.0</td>\n",
       "      <td>3.0</td>\n",
       "      <td>NaN</td>\n",
       "      <td>NaN</td>\n",
       "      <td>4.0</td>\n",
       "      <td>5.0</td>\n",
       "      <td>...</td>\n",
       "      <td>NaN</td>\n",
       "      <td>NaN</td>\n",
       "      <td>NaN</td>\n",
       "      <td>NaN</td>\n",
       "      <td>NaN</td>\n",
       "      <td>NaN</td>\n",
       "      <td>NaN</td>\n",
       "      <td>NaN</td>\n",
       "      <td>NaN</td>\n",
       "      <td>NaN</td>\n",
       "    </tr>\n",
       "    <tr>\n",
       "      <th>58</th>\n",
       "      <td>5.0</td>\n",
       "      <td>NaN</td>\n",
       "      <td>NaN</td>\n",
       "      <td>NaN</td>\n",
       "      <td>NaN</td>\n",
       "      <td>4.5</td>\n",
       "      <td>NaN</td>\n",
       "      <td>NaN</td>\n",
       "      <td>NaN</td>\n",
       "      <td>4.5</td>\n",
       "      <td>...</td>\n",
       "      <td>NaN</td>\n",
       "      <td>NaN</td>\n",
       "      <td>NaN</td>\n",
       "      <td>NaN</td>\n",
       "      <td>NaN</td>\n",
       "      <td>NaN</td>\n",
       "      <td>NaN</td>\n",
       "      <td>NaN</td>\n",
       "      <td>NaN</td>\n",
       "      <td>NaN</td>\n",
       "    </tr>\n",
       "    <tr>\n",
       "      <th>91</th>\n",
       "      <td>4.0</td>\n",
       "      <td>3.5</td>\n",
       "      <td>3.0</td>\n",
       "      <td>NaN</td>\n",
       "      <td>NaN</td>\n",
       "      <td>NaN</td>\n",
       "      <td>2.5</td>\n",
       "      <td>NaN</td>\n",
       "      <td>4.0</td>\n",
       "      <td>4.0</td>\n",
       "      <td>...</td>\n",
       "      <td>NaN</td>\n",
       "      <td>NaN</td>\n",
       "      <td>NaN</td>\n",
       "      <td>NaN</td>\n",
       "      <td>NaN</td>\n",
       "      <td>NaN</td>\n",
       "      <td>NaN</td>\n",
       "      <td>NaN</td>\n",
       "      <td>NaN</td>\n",
       "      <td>NaN</td>\n",
       "    </tr>\n",
       "    <tr>\n",
       "      <th>...</th>\n",
       "      <td>...</td>\n",
       "      <td>...</td>\n",
       "      <td>...</td>\n",
       "      <td>...</td>\n",
       "      <td>...</td>\n",
       "      <td>...</td>\n",
       "      <td>...</td>\n",
       "      <td>...</td>\n",
       "      <td>...</td>\n",
       "      <td>...</td>\n",
       "      <td>...</td>\n",
       "      <td>...</td>\n",
       "      <td>...</td>\n",
       "      <td>...</td>\n",
       "      <td>...</td>\n",
       "      <td>...</td>\n",
       "      <td>...</td>\n",
       "      <td>...</td>\n",
       "      <td>...</td>\n",
       "      <td>...</td>\n",
       "      <td>...</td>\n",
       "    </tr>\n",
       "    <tr>\n",
       "      <th>138404</th>\n",
       "      <td>5.0</td>\n",
       "      <td>2.5</td>\n",
       "      <td>NaN</td>\n",
       "      <td>NaN</td>\n",
       "      <td>NaN</td>\n",
       "      <td>NaN</td>\n",
       "      <td>3.5</td>\n",
       "      <td>NaN</td>\n",
       "      <td>NaN</td>\n",
       "      <td>NaN</td>\n",
       "      <td>...</td>\n",
       "      <td>NaN</td>\n",
       "      <td>NaN</td>\n",
       "      <td>NaN</td>\n",
       "      <td>NaN</td>\n",
       "      <td>NaN</td>\n",
       "      <td>NaN</td>\n",
       "      <td>NaN</td>\n",
       "      <td>NaN</td>\n",
       "      <td>NaN</td>\n",
       "      <td>NaN</td>\n",
       "    </tr>\n",
       "    <tr>\n",
       "      <th>138406</th>\n",
       "      <td>4.0</td>\n",
       "      <td>3.0</td>\n",
       "      <td>NaN</td>\n",
       "      <td>NaN</td>\n",
       "      <td>NaN</td>\n",
       "      <td>NaN</td>\n",
       "      <td>NaN</td>\n",
       "      <td>NaN</td>\n",
       "      <td>3.0</td>\n",
       "      <td>NaN</td>\n",
       "      <td>...</td>\n",
       "      <td>NaN</td>\n",
       "      <td>NaN</td>\n",
       "      <td>NaN</td>\n",
       "      <td>NaN</td>\n",
       "      <td>NaN</td>\n",
       "      <td>NaN</td>\n",
       "      <td>NaN</td>\n",
       "      <td>4.0</td>\n",
       "      <td>NaN</td>\n",
       "      <td>NaN</td>\n",
       "    </tr>\n",
       "    <tr>\n",
       "      <th>138411</th>\n",
       "      <td>5.0</td>\n",
       "      <td>NaN</td>\n",
       "      <td>NaN</td>\n",
       "      <td>NaN</td>\n",
       "      <td>NaN</td>\n",
       "      <td>5.0</td>\n",
       "      <td>NaN</td>\n",
       "      <td>NaN</td>\n",
       "      <td>3.5</td>\n",
       "      <td>2.5</td>\n",
       "      <td>...</td>\n",
       "      <td>NaN</td>\n",
       "      <td>NaN</td>\n",
       "      <td>NaN</td>\n",
       "      <td>NaN</td>\n",
       "      <td>NaN</td>\n",
       "      <td>NaN</td>\n",
       "      <td>NaN</td>\n",
       "      <td>NaN</td>\n",
       "      <td>NaN</td>\n",
       "      <td>NaN</td>\n",
       "    </tr>\n",
       "    <tr>\n",
       "      <th>138437</th>\n",
       "      <td>4.0</td>\n",
       "      <td>NaN</td>\n",
       "      <td>NaN</td>\n",
       "      <td>NaN</td>\n",
       "      <td>NaN</td>\n",
       "      <td>4.0</td>\n",
       "      <td>NaN</td>\n",
       "      <td>NaN</td>\n",
       "      <td>NaN</td>\n",
       "      <td>NaN</td>\n",
       "      <td>...</td>\n",
       "      <td>4.0</td>\n",
       "      <td>4.5</td>\n",
       "      <td>3.0</td>\n",
       "      <td>NaN</td>\n",
       "      <td>NaN</td>\n",
       "      <td>2.0</td>\n",
       "      <td>3.5</td>\n",
       "      <td>5.0</td>\n",
       "      <td>NaN</td>\n",
       "      <td>NaN</td>\n",
       "    </tr>\n",
       "    <tr>\n",
       "      <th>138474</th>\n",
       "      <td>5.0</td>\n",
       "      <td>4.0</td>\n",
       "      <td>NaN</td>\n",
       "      <td>NaN</td>\n",
       "      <td>4.0</td>\n",
       "      <td>5.0</td>\n",
       "      <td>NaN</td>\n",
       "      <td>4.0</td>\n",
       "      <td>4.0</td>\n",
       "      <td>NaN</td>\n",
       "      <td>...</td>\n",
       "      <td>NaN</td>\n",
       "      <td>NaN</td>\n",
       "      <td>NaN</td>\n",
       "      <td>NaN</td>\n",
       "      <td>NaN</td>\n",
       "      <td>NaN</td>\n",
       "      <td>NaN</td>\n",
       "      <td>NaN</td>\n",
       "      <td>NaN</td>\n",
       "      <td>NaN</td>\n",
       "    </tr>\n",
       "  </tbody>\n",
       "</table>\n",
       "<p>10000 rows × 2000 columns</p>\n",
       "</div>"
      ],
      "text/plain": [
       "movieId  1       2       3       4       5       6       7       9       \\\n",
       "userId                                                                    \n",
       "11          4.5     NaN     NaN     NaN     NaN     NaN     NaN     NaN   \n",
       "24          4.0     NaN     NaN     NaN     2.0     4.0     3.0     NaN   \n",
       "54          4.0     3.0     NaN     NaN     3.0     3.0     NaN     NaN   \n",
       "58          5.0     NaN     NaN     NaN     NaN     4.5     NaN     NaN   \n",
       "91          4.0     3.5     3.0     NaN     NaN     NaN     2.5     NaN   \n",
       "...         ...     ...     ...     ...     ...     ...     ...     ...   \n",
       "138404      5.0     2.5     NaN     NaN     NaN     NaN     3.5     NaN   \n",
       "138406      4.0     3.0     NaN     NaN     NaN     NaN     NaN     NaN   \n",
       "138411      5.0     NaN     NaN     NaN     NaN     5.0     NaN     NaN   \n",
       "138437      4.0     NaN     NaN     NaN     NaN     4.0     NaN     NaN   \n",
       "138474      5.0     4.0     NaN     NaN     4.0     5.0     NaN     4.0   \n",
       "\n",
       "movieId  10      11      ...  94864   94959   96079   96610   97304   97921   \\\n",
       "userId                   ...                                                   \n",
       "11          2.5     NaN  ...     NaN     NaN     NaN     NaN     NaN     NaN   \n",
       "24          3.0     NaN  ...     NaN     NaN     NaN     NaN     NaN     NaN   \n",
       "54          4.0     5.0  ...     NaN     NaN     NaN     NaN     NaN     NaN   \n",
       "58          NaN     4.5  ...     NaN     NaN     NaN     NaN     NaN     NaN   \n",
       "91          4.0     4.0  ...     NaN     NaN     NaN     NaN     NaN     NaN   \n",
       "...         ...     ...  ...     ...     ...     ...     ...     ...     ...   \n",
       "138404      NaN     NaN  ...     NaN     NaN     NaN     NaN     NaN     NaN   \n",
       "138406      3.0     NaN  ...     NaN     NaN     NaN     NaN     NaN     NaN   \n",
       "138411      3.5     2.5  ...     NaN     NaN     NaN     NaN     NaN     NaN   \n",
       "138437      NaN     NaN  ...     4.0     4.5     3.0     NaN     NaN     2.0   \n",
       "138474      4.0     NaN  ...     NaN     NaN     NaN     NaN     NaN     NaN   \n",
       "\n",
       "movieId  98809   99114   104841  109374  \n",
       "userId                                   \n",
       "11          NaN     NaN     NaN     NaN  \n",
       "24          NaN     NaN     NaN     NaN  \n",
       "54          NaN     NaN     NaN     NaN  \n",
       "58          NaN     NaN     NaN     NaN  \n",
       "91          NaN     NaN     NaN     NaN  \n",
       "...         ...     ...     ...     ...  \n",
       "138404      NaN     NaN     NaN     NaN  \n",
       "138406      NaN     4.0     NaN     NaN  \n",
       "138411      NaN     NaN     NaN     NaN  \n",
       "138437      3.5     5.0     NaN     NaN  \n",
       "138474      NaN     NaN     NaN     NaN  \n",
       "\n",
       "[10000 rows x 2000 columns]"
      ]
     },
     "execution_count": 178,
     "metadata": {},
     "output_type": "execute_result"
    }
   ],
   "source": [
    "user_item_matrix"
   ]
  },
  {
   "cell_type": "code",
   "execution_count": 179,
   "id": "ec5c6556-b83d-4c80-957a-17472c003237",
   "metadata": {},
   "outputs": [
    {
     "data": {
      "text/plain": [
       "5"
      ]
     },
     "execution_count": 179,
     "metadata": {},
     "output_type": "execute_result"
    }
   ],
   "source": [
    "predict_rating(11,92259)\n"
   ]
  },
  {
   "cell_type": "code",
   "execution_count": 180,
   "id": "8c72c845-2941-4949-b5c3-6b56f538c075",
   "metadata": {},
   "outputs": [],
   "source": [
    "def recommend_movie(user_id, n=5):\n",
    "    user_rated_movies = user_item_matrix.loc[user_id].dropna().index  # Drop NaN entries\n",
    "    all_movies = user_item_matrix.columns\n",
    "    unrated_movies = all_movies.difference(user_rated_movies)\n",
    "    predicted_ratings=[]\n",
    "    for movie_id in unrated_movies:\n",
    "        predicted_rating = predict_rating(user_id, movie_id)\n",
    "        predicted_ratings.append((movie_id, predicted_rating))\n",
    "    predicted_ratings = sorted(predicted_ratings, key=lambda x: x[1], reverse=True)\n",
    "    return predicted_ratings[:n]\n",
    "\n"
   ]
  },
  {
   "cell_type": "code",
   "execution_count": 181,
   "id": "a5ed2daa-0bae-4b35-a7bf-f6861aa11929",
   "metadata": {},
   "outputs": [
    {
     "data": {
      "text/plain": [
       "[(440, 5), (745, 5), (799, 5), (1127, 5), (1218, 5)]"
      ]
     },
     "execution_count": 181,
     "metadata": {},
     "output_type": "execute_result"
    }
   ],
   "source": [
    "recommend_movie(11)"
   ]
  },
  {
   "cell_type": "code",
   "execution_count": 182,
   "id": "5246af4e-c00c-49b3-815a-f9c76410def4",
   "metadata": {},
   "outputs": [
    {
     "data": {
      "text/plain": [
       "Index([61767, 8979, 108355, 70143, 57830], dtype='int64', name='userId')"
      ]
     },
     "execution_count": 182,
     "metadata": {},
     "output_type": "execute_result"
    }
   ],
   "source": [
    "similar_users(11)"
   ]
  },
  {
   "cell_type": "code",
   "execution_count": 196,
   "id": "3e41e482-5a10-4970-a358-ebe370603971",
   "metadata": {},
   "outputs": [
    {
     "data": {
      "text/plain": [
       "4.0"
      ]
     },
     "execution_count": 196,
     "metadata": {},
     "output_type": "execute_result"
    }
   ],
   "source": [
    "user_item_matrix.at[57830,2]"
   ]
  },
  {
   "cell_type": "code",
   "execution_count": 194,
   "id": "1eb250a0-934f-4a96-8a62-1fd57a42653d",
   "metadata": {},
   "outputs": [
    {
     "data": {
      "text/plain": [
       "0.5455555895521479"
      ]
     },
     "execution_count": 194,
     "metadata": {},
     "output_type": "execute_result"
    }
   ],
   "source": [
    "user_similarity_df.loc[11,108355]"
   ]
  },
  {
   "cell_type": "code",
   "execution_count": 197,
   "id": "19dad3c3-55d3-4d7e-8496-7e1004777066",
   "metadata": {},
   "outputs": [
    {
     "data": {
      "text/plain": [
       "3.8299491582782768"
      ]
     },
     "execution_count": 197,
     "metadata": {},
     "output_type": "execute_result"
    }
   ],
   "source": [
    "predict_rating(11,2)"
   ]
  },
  {
   "cell_type": "markdown",
   "id": "40011cf5-a5d9-476d-b194-0aa588f33d37",
   "metadata": {},
   "source": [
    "## Accuracy "
   ]
  },
  {
   "cell_type": "code",
   "execution_count": 203,
   "id": "ba00118f-1159-44ca-b429-8a39e9e0f917",
   "metadata": {},
   "outputs": [],
   "source": [
    "actual=user_item_matrix.at[11,1]"
   ]
  },
  {
   "cell_type": "code",
   "execution_count": 204,
   "id": "97578793-f754-494b-9009-694b77fec3fe",
   "metadata": {},
   "outputs": [
    {
     "data": {
      "text/plain": [
       "4.5"
      ]
     },
     "execution_count": 204,
     "metadata": {},
     "output_type": "execute_result"
    }
   ],
   "source": [
    "actual"
   ]
  },
  {
   "cell_type": "code",
   "execution_count": 205,
   "id": "4d2660b5-9d05-4cd6-a022-f3ea9e089af1",
   "metadata": {},
   "outputs": [],
   "source": [
    "predicted=predict_rating(11,1)"
   ]
  },
  {
   "cell_type": "code",
   "execution_count": 206,
   "id": "9605129f-06db-4b58-85c0-a1cf3c6a11b0",
   "metadata": {},
   "outputs": [
    {
     "data": {
      "text/plain": [
       "4.340343117202113"
      ]
     },
     "execution_count": 206,
     "metadata": {},
     "output_type": "execute_result"
    }
   ],
   "source": [
    "predicted"
   ]
  },
  {
   "cell_type": "code",
   "execution_count": 212,
   "id": "43b667aa-6091-4165-87ce-32d97d241cf2",
   "metadata": {},
   "outputs": [],
   "source": [
    "acc=(actual-predicted)/actual"
   ]
  },
  {
   "cell_type": "code",
   "execution_count": 213,
   "id": "bee5d07b-8805-48ef-b5e6-4d82ab31b16e",
   "metadata": {},
   "outputs": [],
   "source": [
    "accc=1-acc"
   ]
  },
  {
   "cell_type": "code",
   "execution_count": 215,
   "id": "e6e336fd-0306-4dc7-a9fd-56960fa29797",
   "metadata": {},
   "outputs": [
    {
     "data": {
      "text/plain": [
       "96.45206927115805"
      ]
     },
     "execution_count": 215,
     "metadata": {},
     "output_type": "execute_result"
    }
   ],
   "source": [
    "accc*100"
   ]
  },
  {
   "cell_type": "code",
   "execution_count": null,
   "id": "05f09756-c282-4a7f-9a48-ca1ecdbad818",
   "metadata": {},
   "outputs": [],
   "source": []
  }
 ],
 "metadata": {
  "kernelspec": {
   "display_name": "Python 3 (ipykernel)",
   "language": "python",
   "name": "python3"
  },
  "language_info": {
   "codemirror_mode": {
    "name": "ipython",
    "version": 3
   },
   "file_extension": ".py",
   "mimetype": "text/x-python",
   "name": "python",
   "nbconvert_exporter": "python",
   "pygments_lexer": "ipython3",
   "version": "3.9.18"
  }
 },
 "nbformat": 4,
 "nbformat_minor": 5
}
